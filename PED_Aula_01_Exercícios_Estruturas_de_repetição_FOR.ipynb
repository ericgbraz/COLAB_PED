{
  "nbformat": 4,
  "nbformat_minor": 0,
  "metadata": {
    "colab": {
      "provenance": [],
      "authorship_tag": "ABX9TyMcB3nBetXWJM5fLehxeS6j",
      "include_colab_link": true
    },
    "kernelspec": {
      "name": "python3",
      "display_name": "Python 3"
    },
    "language_info": {
      "name": "python"
    }
  },
  "cells": [
    {
      "cell_type": "markdown",
      "metadata": {
        "id": "view-in-github",
        "colab_type": "text"
      },
      "source": [
        "<a href=\"https://colab.research.google.com/github/ericgbraz/COLAB_PED/blob/main/PED_Aula_01_Exerc%C3%ADcios_Estruturas_de_repeti%C3%A7%C3%A3o_FOR.ipynb\" target=\"_parent\"><img src=\"https://colab.research.google.com/assets/colab-badge.svg\" alt=\"Open In Colab\"/></a>"
      ]
    },
    {
      "cell_type": "code",
      "execution_count": null,
      "metadata": {
        "colab": {
          "base_uri": "https://localhost:8080/"
        },
        "id": "oDmPdErA_Ia6",
        "outputId": "fe49f95f-6251-41bd-a40d-65cb1ea81330"
      },
      "outputs": [
        {
          "output_type": "stream",
          "name": "stdout",
          "text": [
            "Digite um número: 1\n",
            "O dobro de 1.0 é  2.0\n",
            "Digite um número: 3\n",
            "O dobro de 3.0 é  6.0\n",
            "Digite um número: 4\n",
            "O dobro de 4.0 é  8.0\n",
            "Digite um número: 5\n",
            "O dobro de 5.0 é  10.0\n",
            "Digite um número: 6\n",
            "O dobro de 6.0 é  12.0\n"
          ]
        }
      ],
      "source": [
        "#1\n",
        "for i in range(5):\n",
        "  x = float(input('Digite um número: '))\n",
        "  print(f'O dobro de {x} é ',x*2)"
      ]
    },
    {
      "cell_type": "code",
      "source": [
        "#2\n",
        "x = int(input('Digite um número: '))\n",
        "print(f'Os número impares até {x} são: ')\n",
        "for i in range(x+1):\n",
        "  if i % 2 == 1:\n",
        "    print(i)\n"
      ],
      "metadata": {
        "id": "oJ0WtYcC_upZ",
        "colab": {
          "base_uri": "https://localhost:8080/"
        },
        "outputId": "d76797b7-ff2f-4516-f359-5af596db31b7"
      },
      "execution_count": 1,
      "outputs": [
        {
          "output_type": "stream",
          "name": "stdout",
          "text": [
            "Digite um número: 11\n",
            "Os número impares de 11 são: \n",
            "1\n",
            "3\n",
            "5\n",
            "7\n",
            "9\n",
            "11\n"
          ]
        }
      ]
    },
    {
      "cell_type": "code",
      "source": [
        "#3\n",
        "x = int(input('Digite um número: '))\n",
        "for i in range(1,11):\n",
        "\n",
        "  print(f'{x} x {i} =',x*i)"
      ],
      "metadata": {
        "id": "UN7Q3H___2_d"
      },
      "execution_count": null,
      "outputs": []
    },
    {
      "cell_type": "code",
      "source": [
        "\"\"\"\n",
        "num1 = int(input(\"Digite o primeiro número inteiro: \"))\n",
        "num2 = int(input(\"Digite o segundo número inteiro: \"))\n",
        "if num1 > num2:\n",
        "    num1,  num2 = num2,num1\n",
        "for i in range(num1, num2 + 1):\n",
        "    print(i)\n",
        "\"\"\"\n",
        "#4\n",
        "a = int(input('Digite um número: '))\n",
        "b = int(input('Digite um número: '))\n",
        "if a == b:\n",
        "  print('Os número são iguais')\n",
        "else:\n",
        "  if a>b:\n",
        "    menor, maior = b,a\n",
        "  elif a<b:\n",
        "    menor, maior = a,b\n",
        "  for i in range(menor,maior+1):\n",
        "    print(i)"
      ],
      "metadata": {
        "id": "zq3mKQRxBEne",
        "colab": {
          "base_uri": "https://localhost:8080/"
        },
        "outputId": "6ba541ef-ae9d-46c3-e395-3b615cef6953"
      },
      "execution_count": null,
      "outputs": [
        {
          "output_type": "stream",
          "name": "stdout",
          "text": [
            "Digite um número: 10\n",
            "Digite um número: 4\n",
            "4\n",
            "5\n",
            "6\n",
            "7\n",
            "8\n",
            "9\n",
            "10\n"
          ]
        }
      ]
    },
    {
      "cell_type": "code",
      "source": [
        "#5\n",
        "a = 0\n",
        "x = int(input('Digite um número: '))\n",
        "for i in range(1,x+1):\n",
        "  a = i + a\n",
        "print(f'A soma dos números entre 1 e {x} é',a) "
      ],
      "metadata": {
        "id": "GuGQ5bTCDb7n"
      },
      "execution_count": null,
      "outputs": []
    },
    {
      "cell_type": "code",
      "source": [
        "#6\n",
        "a = 1\n",
        "x = int(input('Digite um número: '))\n",
        "for i in range(1,x+1):\n",
        "  a = i * a\n",
        "print(f'O Fatorial de {x} é',a) "
      ],
      "metadata": {
        "id": "0AkWd5mREwY6"
      },
      "execution_count": null,
      "outputs": []
    },
    {
      "cell_type": "code",
      "source": [
        "#7\n",
        "for i in range(1,11):\n",
        "  x = int(input('Digite o peso da pessoa '+str(i)+' '))\n",
        "  a = a + x\n",
        "  b = i\n",
        "print('A média de peso é',round(a/b,2))  "
      ],
      "metadata": {
        "id": "lGiKPnerFUmZ"
      },
      "execution_count": null,
      "outputs": []
    },
    {
      "cell_type": "code",
      "source": [
        "#8\n",
        "homens = 0\n",
        "mulheres = 0\n",
        "\n",
        "for i in range(2):\n",
        "    sexo = input(f'Digite o sexo da pessoa {i+1} (M/F): ')\n",
        "    peso = float(input(f'Digite o peso da pessoa {i+1}: '))\n",
        "    \n",
        "    if sexo.upper() == 'M' and peso >= 60 and peso <= 80:\n",
        "        homens += 1\n",
        "    elif sexo.upper() == 'F' and peso >= 50 and peso <= 70:\n",
        "        mulheres += 1\n",
        "\n",
        "print('Quantidade de homens com peso entre 60 e 80 kg:', homens)\n",
        "print('Quantidade de mulheres com peso entre 50 e 70 kg:', mulheres)"
      ],
      "metadata": {
        "id": "WOvPSQZhFctG"
      },
      "execution_count": null,
      "outputs": []
    },
    {
      "cell_type": "code",
      "source": [
        "#9\n",
        "peso_90 = 0\n",
        "a = 0\n",
        "idade = 0\n",
        "for i in range(1,8):\n",
        "  peso  = int(input('Digite o peso da pessoa '+str(i)+' '))\n",
        "  a = int(input('Digite a idade da pessoa '+str(i)+' '))\n",
        "  idade = idade + a\n",
        "  if peso > 90:\n",
        "    peso_90 = peso_90 + 1\n",
        "  b = i\n",
        "print(b)\n",
        "print(idade)\n",
        "print('A média de idade é',round(idade/b,2))  \n",
        "print('A quantidade de pessoas com mais de 90Kg é',peso_90)  "
      ],
      "metadata": {
        "id": "FPEEbdW8miyi",
        "outputId": "99cac402-b672-4ec2-d70b-7315c806faa0",
        "colab": {
          "base_uri": "https://localhost:8080/"
        }
      },
      "execution_count": 14,
      "outputs": [
        {
          "output_type": "stream",
          "name": "stdout",
          "text": [
            "Digite o peso da pessoa 1 91\n",
            "Digite a idade da pessoa 1 33\n",
            "Digite o peso da pessoa 2 89\n",
            "Digite a idade da pessoa 2 31\n",
            "Digite o peso da pessoa 3 94\n",
            "Digite a idade da pessoa 3 25\n",
            "Digite o peso da pessoa 4 54\n",
            "Digite a idade da pessoa 4 19\n",
            "Digite o peso da pessoa 5 101\n",
            "Digite a idade da pessoa 5 29\n",
            "Digite o peso da pessoa 6 75\n",
            "Digite a idade da pessoa 6 29\n",
            "Digite o peso da pessoa 7 94\n",
            "Digite a idade da pessoa 7 31\n",
            "7\n",
            "197\n",
            "A média de idade é 28.14\n",
            "A quantidade de pessoas com mais de 90Kg é 4\n"
          ]
        }
      ]
    },
    {
      "cell_type": "code",
      "source": [
        "#10\n",
        "import math\n",
        "\n",
        "num = int(input('Digite um número inteiro positivo: '))\n",
        "\n",
        "primo = True\n",
        "for i in range(2, math.isqrt(num) + 1):\n",
        "    if num % i == 0:\n",
        "        primo = False\n",
        "if primo:\n",
        "    print(f'{num} é um número primo.')\n",
        "else:\n",
        "    print(f'{num} não é um número primo.')"
      ],
      "metadata": {
        "id": "aw4ze63DqWJU",
        "outputId": "17839009-6af9-4a67-b866-b5847de6192f",
        "colab": {
          "base_uri": "https://localhost:8080/"
        }
      },
      "execution_count": 21,
      "outputs": [
        {
          "output_type": "stream",
          "name": "stdout",
          "text": [
            "Digite um número inteiro positivo: 2\n",
            "2 é um número primo.\n"
          ]
        }
      ]
    }
  ]
}