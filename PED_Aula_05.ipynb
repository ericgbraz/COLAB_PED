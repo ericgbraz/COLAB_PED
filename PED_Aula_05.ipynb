{
  "nbformat": 4,
  "nbformat_minor": 0,
  "metadata": {
    "colab": {
      "provenance": [],
      "authorship_tag": "ABX9TyOIsRT9F2VOkiHciGom4bpT",
      "include_colab_link": true
    },
    "kernelspec": {
      "name": "python3",
      "display_name": "Python 3"
    },
    "language_info": {
      "name": "python"
    }
  },
  "cells": [
    {
      "cell_type": "markdown",
      "metadata": {
        "id": "view-in-github",
        "colab_type": "text"
      },
      "source": [
        "<a href=\"https://colab.research.google.com/github/ericgbraz/COLAB_PED/blob/main/PED_Aula_05.ipynb\" target=\"_parent\"><img src=\"https://colab.research.google.com/assets/colab-badge.svg\" alt=\"Open In Colab\"/></a>"
      ]
    },
    {
      "cell_type": "code",
      "execution_count": 27,
      "metadata": {
        "id": "1ed6o8jNdqnN",
        "colab": {
          "base_uri": "https://localhost:8080/"
        },
        "outputId": "38a3d728-e153-461f-f415-7506356342fe"
      },
      "outputs": [
        {
          "output_type": "execute_result",
          "data": {
            "text/plain": [
              "<sqlite3.Cursor at 0x7fa3e84a7540>"
            ]
          },
          "metadata": {},
          "execution_count": 27
        }
      ],
      "source": [
        "import sqlite3\n",
        "import numpy as np\n",
        "#conexao = sqlite3.connect(':memory:') \n",
        "conexao = sqlite3.connect('aluno.db') \n",
        "cursor = conexao.cursor()\n",
        "\n",
        "sql = 'create table aluno('\\\n",
        "'idAluno integer primary key autoincrement,'\\\n",
        "'nome varchar(100) not null,'\\\n",
        "'sexo char)'\n",
        "cursor.execute(sql)\n",
        "\n"
      ]
    },
    {
      "cell_type": "code",
      "source": [
        "sql = 'insert into aluno (nome, sexo) values(?,?)'\n",
        "cursor.execute(sql, ['Alexandre', 'M']) #insere apenas um registro\n",
        "conexao.commit()\n"
      ],
      "metadata": {
        "id": "-eQCODej4jh1"
      },
      "execution_count": 28,
      "outputs": []
    },
    {
      "cell_type": "code",
      "source": [
        "alunos = [['Sílvia', 'F'], ['Carlos','M'], ['Maria', 'F'], ['João', np.NaN]]\n",
        "\n",
        "#inserindo diversos registros\n",
        "for aluno in alunos:\n",
        "    cursor.execute(sql, aluno)\n",
        "\n",
        "conexao.commit()"
      ],
      "metadata": {
        "id": "mHJ1XxWv4mE-"
      },
      "execution_count": 29,
      "outputs": []
    },
    {
      "cell_type": "code",
      "source": [
        "sql = 'select * from aluno'\n",
        "\n",
        "cursor.execute(sql)\n",
        "alunos = cursor.fetchall()\n",
        "\n",
        "print(alunos)\n",
        "\n",
        "for aluno in alunos:\n",
        "    print(aluno)\n"
      ],
      "metadata": {
        "colab": {
          "base_uri": "https://localhost:8080/"
        },
        "id": "sTC_l7t75QaH",
        "outputId": "d770518c-0977-4337-adc0-6438e7829ad2"
      },
      "execution_count": 20,
      "outputs": [
        {
          "output_type": "stream",
          "name": "stdout",
          "text": [
            "[(1, 'Alexandre', 'M')]\n",
            "(1, 'Alexandre', 'M')\n"
          ]
        }
      ]
    },
    {
      "cell_type": "code",
      "source": [
        "sql = 'update aluno '\\\n",
        "' set nome = ?'\\\n",
        "' where idAluno = ?'\n",
        "\n",
        "cursor.execute(sql, ['Alexandre Siqueira Dias', 1]) \n",
        "\n",
        "conexao.commit()\n",
        "\n",
        "\n"
      ],
      "metadata": {
        "colab": {
          "base_uri": "https://localhost:8080/"
        },
        "id": "sxW3XSl952OJ",
        "outputId": "73675156-5453-4efc-d7e9-39ad781a47d6"
      },
      "execution_count": 21,
      "outputs": [
        {
          "output_type": "stream",
          "name": "stdout",
          "text": [
            "[]\n"
          ]
        }
      ]
    },
    {
      "cell_type": "code",
      "source": [
        "cursor.execute('select * from aluno')\n",
        "alunos = cursor.fetchall()\n",
        "\n",
        "print(alunos)"
      ],
      "metadata": {
        "colab": {
          "base_uri": "https://localhost:8080/"
        },
        "id": "MPuLGc6U6czO",
        "outputId": "50308309-4dd5-43e2-ec23-2ccd3b33296a"
      },
      "execution_count": 24,
      "outputs": [
        {
          "output_type": "stream",
          "name": "stdout",
          "text": [
            "[(1, 'Alexandre Siqueira Dias', 'M')]\n"
          ]
        }
      ]
    },
    {
      "cell_type": "code",
      "source": [
        "sql = 'delete from aluno where idAluno = ?'\n",
        "cursor.execute(sql, [1]) \n",
        "conexao.commit()\n"
      ],
      "metadata": {
        "id": "bi1Zmf0z6oqh"
      },
      "execution_count": 30,
      "outputs": []
    },
    {
      "cell_type": "code",
      "source": [
        "cursor.execute('select * from aluno')\n",
        "alunos = cursor.fetchall()\n",
        "\n",
        "print(alunos)"
      ],
      "metadata": {
        "colab": {
          "base_uri": "https://localhost:8080/"
        },
        "id": "8cR2Ewei6ogN",
        "outputId": "81e042ec-c0df-4e2e-cf5e-66365cf22234"
      },
      "execution_count": 31,
      "outputs": [
        {
          "output_type": "stream",
          "name": "stdout",
          "text": [
            "[(2, 'Sílvia', 'F'), (3, 'Carlos', 'M'), (4, 'Maria', 'F'), (5, 'João', None)]\n"
          ]
        }
      ]
    },
    {
      "cell_type": "code",
      "source": [
        "sql = 'select * from aluno where idaluno >= ? and sexo = ?'\n",
        "\n",
        "cursor.execute(sql, [2, 'F'])\n",
        "alunos = cursor.fetchall()\n",
        "\n",
        "for id, nome, sexo in alunos: #acessando cada campo individualmente\n",
        "    print(id, nome, sexo)\n"
      ],
      "metadata": {
        "id": "UoZaWZ5K935p",
        "outputId": "b461761b-807a-4cb6-b661-11877d63c50b",
        "colab": {
          "base_uri": "https://localhost:8080/"
        }
      },
      "execution_count": 32,
      "outputs": [
        {
          "output_type": "stream",
          "name": "stdout",
          "text": [
            "2 Sílvia F\n",
            "4 Maria F\n"
          ]
        }
      ]
    },
    {
      "cell_type": "code",
      "source": [
        "sql = 'select * from aluno where sexo is null'\n",
        "\n",
        "cursor.execute(sql)\n",
        "alunos = cursor.fetchall()\n",
        "\n",
        "print(alunos)\n"
      ],
      "metadata": {
        "id": "I-HXlvkZ-Eji",
        "outputId": "5de3105c-6d7b-43f7-8f11-f5da5176ad10",
        "colab": {
          "base_uri": "https://localhost:8080/"
        }
      },
      "execution_count": 33,
      "outputs": [
        {
          "output_type": "stream",
          "name": "stdout",
          "text": [
            "[(5, 'João', None)]\n"
          ]
        }
      ]
    },
    {
      "cell_type": "code",
      "source": [
        "import pandas as pd\n",
        "import sqlite3\n",
        "\n",
        "# Carregando dados do SQLite para o pandas\n",
        "df = pd.read_sql_query(\"SELECT * from aluno\", conexao)\n",
        "\n",
        "df\n"
      ],
      "metadata": {
        "id": "s9Pz4YEu-L41",
        "outputId": "740379f1-868f-4dd6-9191-1508f6da99aa",
        "colab": {
          "base_uri": "https://localhost:8080/",
          "height": 175
        }
      },
      "execution_count": 34,
      "outputs": [
        {
          "output_type": "execute_result",
          "data": {
            "text/plain": [
              "   idAluno    nome  sexo\n",
              "0        2  Sílvia     F\n",
              "1        3  Carlos     M\n",
              "2        4   Maria     F\n",
              "3        5    João  None"
            ],
            "text/html": [
              "\n",
              "  <div id=\"df-613ea247-aa39-48ee-952e-ef787f1bf5af\">\n",
              "    <div class=\"colab-df-container\">\n",
              "      <div>\n",
              "<style scoped>\n",
              "    .dataframe tbody tr th:only-of-type {\n",
              "        vertical-align: middle;\n",
              "    }\n",
              "\n",
              "    .dataframe tbody tr th {\n",
              "        vertical-align: top;\n",
              "    }\n",
              "\n",
              "    .dataframe thead th {\n",
              "        text-align: right;\n",
              "    }\n",
              "</style>\n",
              "<table border=\"1\" class=\"dataframe\">\n",
              "  <thead>\n",
              "    <tr style=\"text-align: right;\">\n",
              "      <th></th>\n",
              "      <th>idAluno</th>\n",
              "      <th>nome</th>\n",
              "      <th>sexo</th>\n",
              "    </tr>\n",
              "  </thead>\n",
              "  <tbody>\n",
              "    <tr>\n",
              "      <th>0</th>\n",
              "      <td>2</td>\n",
              "      <td>Sílvia</td>\n",
              "      <td>F</td>\n",
              "    </tr>\n",
              "    <tr>\n",
              "      <th>1</th>\n",
              "      <td>3</td>\n",
              "      <td>Carlos</td>\n",
              "      <td>M</td>\n",
              "    </tr>\n",
              "    <tr>\n",
              "      <th>2</th>\n",
              "      <td>4</td>\n",
              "      <td>Maria</td>\n",
              "      <td>F</td>\n",
              "    </tr>\n",
              "    <tr>\n",
              "      <th>3</th>\n",
              "      <td>5</td>\n",
              "      <td>João</td>\n",
              "      <td>None</td>\n",
              "    </tr>\n",
              "  </tbody>\n",
              "</table>\n",
              "</div>\n",
              "      <button class=\"colab-df-convert\" onclick=\"convertToInteractive('df-613ea247-aa39-48ee-952e-ef787f1bf5af')\"\n",
              "              title=\"Convert this dataframe to an interactive table.\"\n",
              "              style=\"display:none;\">\n",
              "        \n",
              "  <svg xmlns=\"http://www.w3.org/2000/svg\" height=\"24px\"viewBox=\"0 0 24 24\"\n",
              "       width=\"24px\">\n",
              "    <path d=\"M0 0h24v24H0V0z\" fill=\"none\"/>\n",
              "    <path d=\"M18.56 5.44l.94 2.06.94-2.06 2.06-.94-2.06-.94-.94-2.06-.94 2.06-2.06.94zm-11 1L8.5 8.5l.94-2.06 2.06-.94-2.06-.94L8.5 2.5l-.94 2.06-2.06.94zm10 10l.94 2.06.94-2.06 2.06-.94-2.06-.94-.94-2.06-.94 2.06-2.06.94z\"/><path d=\"M17.41 7.96l-1.37-1.37c-.4-.4-.92-.59-1.43-.59-.52 0-1.04.2-1.43.59L10.3 9.45l-7.72 7.72c-.78.78-.78 2.05 0 2.83L4 21.41c.39.39.9.59 1.41.59.51 0 1.02-.2 1.41-.59l7.78-7.78 2.81-2.81c.8-.78.8-2.07 0-2.86zM5.41 20L4 18.59l7.72-7.72 1.47 1.35L5.41 20z\"/>\n",
              "  </svg>\n",
              "      </button>\n",
              "      \n",
              "  <style>\n",
              "    .colab-df-container {\n",
              "      display:flex;\n",
              "      flex-wrap:wrap;\n",
              "      gap: 12px;\n",
              "    }\n",
              "\n",
              "    .colab-df-convert {\n",
              "      background-color: #E8F0FE;\n",
              "      border: none;\n",
              "      border-radius: 50%;\n",
              "      cursor: pointer;\n",
              "      display: none;\n",
              "      fill: #1967D2;\n",
              "      height: 32px;\n",
              "      padding: 0 0 0 0;\n",
              "      width: 32px;\n",
              "    }\n",
              "\n",
              "    .colab-df-convert:hover {\n",
              "      background-color: #E2EBFA;\n",
              "      box-shadow: 0px 1px 2px rgba(60, 64, 67, 0.3), 0px 1px 3px 1px rgba(60, 64, 67, 0.15);\n",
              "      fill: #174EA6;\n",
              "    }\n",
              "\n",
              "    [theme=dark] .colab-df-convert {\n",
              "      background-color: #3B4455;\n",
              "      fill: #D2E3FC;\n",
              "    }\n",
              "\n",
              "    [theme=dark] .colab-df-convert:hover {\n",
              "      background-color: #434B5C;\n",
              "      box-shadow: 0px 1px 3px 1px rgba(0, 0, 0, 0.15);\n",
              "      filter: drop-shadow(0px 1px 2px rgba(0, 0, 0, 0.3));\n",
              "      fill: #FFFFFF;\n",
              "    }\n",
              "  </style>\n",
              "\n",
              "      <script>\n",
              "        const buttonEl =\n",
              "          document.querySelector('#df-613ea247-aa39-48ee-952e-ef787f1bf5af button.colab-df-convert');\n",
              "        buttonEl.style.display =\n",
              "          google.colab.kernel.accessAllowed ? 'block' : 'none';\n",
              "\n",
              "        async function convertToInteractive(key) {\n",
              "          const element = document.querySelector('#df-613ea247-aa39-48ee-952e-ef787f1bf5af');\n",
              "          const dataTable =\n",
              "            await google.colab.kernel.invokeFunction('convertToInteractive',\n",
              "                                                     [key], {});\n",
              "          if (!dataTable) return;\n",
              "\n",
              "          const docLinkHtml = 'Like what you see? Visit the ' +\n",
              "            '<a target=\"_blank\" href=https://colab.research.google.com/notebooks/data_table.ipynb>data table notebook</a>'\n",
              "            + ' to learn more about interactive tables.';\n",
              "          element.innerHTML = '';\n",
              "          dataTable['output_type'] = 'display_data';\n",
              "          await google.colab.output.renderOutput(dataTable, element);\n",
              "          const docLink = document.createElement('div');\n",
              "          docLink.innerHTML = docLinkHtml;\n",
              "          element.appendChild(docLink);\n",
              "        }\n",
              "      </script>\n",
              "    </div>\n",
              "  </div>\n",
              "  "
            ]
          },
          "metadata": {},
          "execution_count": 34
        }
      ]
    },
    {
      "cell_type": "code",
      "source": [
        "import pandas as pd\n",
        "import sqlite3\n",
        "\n",
        "# Carregando dados do SQLite para o pandas\n",
        "df = pd.read_sql_query(\"SELECT * from aluno\", conexao)\n",
        "\n",
        "df['sexo'].value_counts()\n",
        "\n",
        "df['sexo'].value_counts().plot(kind = 'bar')\n"
      ],
      "metadata": {
        "id": "CQVuKX6v-WQX",
        "outputId": "0f7a05b1-e48b-4421-f1f2-9c7e94cbdfb4",
        "colab": {
          "base_uri": "https://localhost:8080/",
          "height": 445
        }
      },
      "execution_count": 35,
      "outputs": [
        {
          "output_type": "execute_result",
          "data": {
            "text/plain": [
              "<Axes: >"
            ]
          },
          "metadata": {},
          "execution_count": 35
        },
        {
          "output_type": "display_data",
          "data": {
            "text/plain": [
              "<Figure size 640x480 with 1 Axes>"
            ],
            "image/png": "[encoded data removed]"
          },
          "metadata": {}
        }
      ]
    }
  ]
}