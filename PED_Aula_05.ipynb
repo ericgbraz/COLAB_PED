{
  "nbformat": 4,
  "nbformat_minor": 0,
  "metadata": {
    "colab": {
      "provenance": [],
      "authorship_tag": "ABX9TyMAhWCjWhTSgxtpfvNRGIK1",
      "include_colab_link": true
    },
    "kernelspec": {
      "name": "python3",
      "display_name": "Python 3"
    },
    "language_info": {
      "name": "python"
    }
  },
  "cells": [
    {
      "cell_type": "markdown",
      "metadata": {
        "id": "view-in-github",
        "colab_type": "text"
      },
      "source": [
        "<a href=\"https://colab.research.google.com/github/ericgbraz/COLAB_PED/blob/main/PED_Aula_05.ipynb\" target=\"_parent\"><img src=\"https://colab.research.google.com/assets/colab-badge.svg\" alt=\"Open In Colab\"/></a>"
      ]
    },
    {
      "cell_type": "code",
      "execution_count": 18,
      "metadata": {
        "id": "1ed6o8jNdqnN",
        "outputId": "e11fd168-cee9-46ae-c806-071e10c332de",
        "colab": {
          "base_uri": "https://localhost:8080/"
        }
      },
      "outputs": [
        {
          "output_type": "execute_result",
          "data": {
            "text/plain": [
              "<sqlite3.Cursor at 0x7fa3e842f340>"
            ]
          },
          "metadata": {},
          "execution_count": 18
        }
      ],
      "source": [
        "import sqlite3\n",
        "import numpy as np\n",
        "#conexao = sqlite3.connect(':memory:') \n",
        "conexao = sqlite3.connect('aluno.db') \n",
        "cursor = conexao.cursor()\n",
        "\n",
        "sql = 'create table aluno('\\\n",
        "'idAluno integer primary key autoincrement,'\\\n",
        "'nome varchar(100) not null,'\\\n",
        "'sexo char)'\n",
        "cursor.execute(sql)\n",
        "\n"
      ]
    },
    {
      "cell_type": "code",
      "source": [
        "sql = 'insert into aluno (nome, sexo) values(?,?)'\n",
        "cursor.execute(sql, ['Alexandre', 'M']) #insere apenas um registro\n",
        "conexao.commit()\n"
      ],
      "metadata": {
        "id": "-eQCODej4jh1"
      },
      "execution_count": 19,
      "outputs": []
    },
    {
      "cell_type": "code",
      "source": [
        "alunos = [['Sílvia', 'F'], ['Carlos','M'], ['Maria', 'F'], ['João', np.NaN]]\n",
        "\n",
        "#inserindo diversos registros\n",
        "for aluno in alunos:\n",
        "    cursor.execute(sql, aluno)\n",
        "\n",
        "conexao.commit()"
      ],
      "metadata": {
        "id": "mHJ1XxWv4mE-"
      },
      "execution_count": 22,
      "outputs": []
    },
    {
      "cell_type": "code",
      "source": [
        "sql = 'select * from aluno'\n",
        "\n",
        "cursor.execute(sql)\n",
        "alunos = cursor.fetchall()\n",
        "\n",
        "print(alunos)\n",
        "\n",
        "for aluno in alunos:\n",
        "    print(aluno)\n"
      ],
      "metadata": {
        "id": "sTC_l7t75QaH",
        "outputId": "d770518c-0977-4337-adc0-6438e7829ad2",
        "colab": {
          "base_uri": "https://localhost:8080/"
        }
      },
      "execution_count": 20,
      "outputs": [
        {
          "output_type": "stream",
          "name": "stdout",
          "text": [
            "[(1, 'Alexandre', 'M')]\n",
            "(1, 'Alexandre', 'M')\n"
          ]
        }
      ]
    },
    {
      "cell_type": "code",
      "source": [
        "sql = 'update aluno '\\\n",
        "' set nome = ?'\\\n",
        "' where idAluno = ?'\n",
        "\n",
        "cursor.execute(sql, ['Alexandre Siqueira Dias', 1]) \n",
        "\n",
        "conexao.commit()\n",
        "\n",
        "\n"
      ],
      "metadata": {
        "id": "sxW3XSl952OJ",
        "outputId": "73675156-5453-4efc-d7e9-39ad781a47d6",
        "colab": {
          "base_uri": "https://localhost:8080/"
        }
      },
      "execution_count": 21,
      "outputs": [
        {
          "output_type": "stream",
          "name": "stdout",
          "text": [
            "[]\n"
          ]
        }
      ]
    },
    {
      "cell_type": "code",
      "source": [
        "cursor.execute('select * from aluno')\n",
        "alunos = cursor.fetchall()\n",
        "\n",
        "print(alunos)"
      ],
      "metadata": {
        "id": "MPuLGc6U6czO",
        "outputId": "50308309-4dd5-43e2-ec23-2ccd3b33296a",
        "colab": {
          "base_uri": "https://localhost:8080/"
        }
      },
      "execution_count": 24,
      "outputs": [
        {
          "output_type": "stream",
          "name": "stdout",
          "text": [
            "[(1, 'Alexandre Siqueira Dias', 'M')]\n"
          ]
        }
      ]
    },
    {
      "cell_type": "code",
      "source": [
        "sql = 'delete from aluno where idAluno = ?'\n",
        "cursor.execute(sql, [1]) \n",
        "conexao.commit()\n"
      ],
      "metadata": {
        "id": "bi1Zmf0z6oqh"
      },
      "execution_count": 25,
      "outputs": []
    },
    {
      "cell_type": "code",
      "source": [
        "cursor.execute('select * from aluno')\n",
        "alunos = cursor.fetchall()\n",
        "\n",
        "print(alunos)"
      ],
      "metadata": {
        "id": "8cR2Ewei6ogN",
        "outputId": "4e237866-680a-4604-9cd4-e5672ea83d33",
        "colab": {
          "base_uri": "https://localhost:8080/"
        }
      },
      "execution_count": 26,
      "outputs": [
        {
          "output_type": "stream",
          "name": "stdout",
          "text": [
            "[]\n"
          ]
        }
      ]
    }
  ]
}