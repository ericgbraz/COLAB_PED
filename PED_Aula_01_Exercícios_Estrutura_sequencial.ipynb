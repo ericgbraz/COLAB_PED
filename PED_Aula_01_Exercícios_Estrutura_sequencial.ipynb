{
  "nbformat": 4,
  "nbformat_minor": 0,
  "metadata": {
    "colab": {
      "provenance": [],
      "authorship_tag": "ABX9TyNB6my9engLMWbNtMt43xL8",
      "include_colab_link": true
    },
    "kernelspec": {
      "name": "python3",
      "display_name": "Python 3"
    },
    "language_info": {
      "name": "python"
    }
  },
  "cells": [
    {
      "cell_type": "markdown",
      "metadata": {
        "id": "view-in-github",
        "colab_type": "text"
      },
      "source": [
        "<a href=\"https://colab.research.google.com/github/ericgbraz/COLAB_PED/blob/main/PED_Aula_01_Exerc%C3%ADcios_Estrutura_sequencial.ipynb\" target=\"_parent\"><img src=\"https://colab.research.google.com/assets/colab-badge.svg\" alt=\"Open In Colab\"/></a>"
      ]
    },
    {
      "cell_type": "code",
      "execution_count": null,
      "metadata": {
        "id": "QJjy4t5xhEU0",
        "colab": {
          "base_uri": "https://localhost:8080/"
        },
        "outputId": "bf6b5326-f3a1-4d01-b051-59c945d36df1"
      },
      "outputs": [
        {
          "output_type": "stream",
          "name": "stdout",
          "text": [
            "Digite a primeira nota 4\n",
            "Digite a segunda nota 9\n",
            "Digite a terceira nota 10\n",
            "A média aritmética é 7.67\n"
          ]
        }
      ],
      "source": [
        "#1\n",
        "a = int(input('Digite a primeira nota '))\n",
        "b = int(input('Digite a segunda nota '))\n",
        "c = int(input('Digite a terceira nota '))\n",
        "  \n",
        "x = (a + b + c) / 3\n",
        "  \n",
        "print('A média aritmética é',round(x,2))  "
      ]
    },
    {
      "cell_type": "code",
      "source": [
        "#2\n",
        "ano_nasc = int(input('Digite o ano de nascimento '))\n",
        "ano_atual = int(input('Digite o ano atual '))\n",
        "\n",
        "if ano_nasc > ano_atual:\n",
        "  print('Digite um ano atual válido')\n",
        "else:\n",
        "  print('Sua idade é ',ano_atual - ano_nasc)  \n",
        "  print(f'Você terá {2050 - ano_nasc} anos em 2050')"
      ],
      "metadata": {
        "id": "-nkkql_v8aGH"
      },
      "execution_count": null,
      "outputs": []
    },
    {
      "cell_type": "code",
      "source": [
        "#3\n",
        "import math\n",
        "\n",
        "a = float(input('Digite o coeficiente a da equação: '))\n",
        "b = float(input('Digite o coeficiente b da equação: '))\n",
        "c = float(input('Digite o coeficiente c da equação: '))\n",
        "\n",
        "delta = b**2 - 4*a*c\n",
        "\n",
        "x1 = (-b + math.sqrt(delta)) / (2*a)\n",
        "x2 = (-b - math.sqrt(delta)) / (2*a)\n",
        "print('As raízes reais são:')\n",
        "print('x1 =', x1)\n",
        "print('x2 =', x2)"
      ],
      "metadata": {
        "id": "moShptzv8c2w"
      },
      "execution_count": null,
      "outputs": []
    },
    {
      "cell_type": "code",
      "source": [
        "#4\n",
        "x = int(input('Digite um número: '))\n",
        "print(f'{x} x 1 = ',x*1)\n",
        "print(f'{x} x 2 = ',x*2)\n",
        "print(f'{x} x 3 = ',x*3)\n",
        "print(f'{x} x 4 = ',x*4)\n",
        "print(f'{x} x 5 = ',x*5)\n",
        "print(f'{x} x 6 = ',x*6)\n",
        "print(f'{x} x 7 = ',x*7)\n",
        "print(f'{x} x 8 = ',x*8)\n",
        "print(f'{x} x 9 = ',x*9)\n",
        "print(f'{x} x 10 = ',x*10)\n",
        "\n",
        "#x = int(input('Digite um número: '))\n",
        "#for i in range(1,11):\n",
        "#  print(f'{x} x {i} =',x*i)\n",
        "               "
      ],
      "metadata": {
        "id": "XBXY7kSe8c-U",
        "colab": {
          "base_uri": "https://localhost:8080/"
        },
        "outputId": "2b5f6bbb-1114-409d-d518-0bd5a376c968"
      },
      "execution_count": null,
      "outputs": [
        {
          "output_type": "stream",
          "name": "stdout",
          "text": [
            "Digite um número: 5\n",
            "5 x 1 =  5\n",
            "5 x 2 =  10\n",
            "5 x 3 =  15\n",
            "5 x 4 =  20\n",
            "5 x 5 =  25\n",
            "5 x 6 =  30\n",
            "5 x 7 =  35\n",
            "5 x 8 =  40\n",
            "5 x 9 =  45\n",
            "5 x 10 =  50\n"
          ]
        }
      ]
    },
    {
      "cell_type": "code",
      "source": [
        "#5\n",
        "import math\n",
        "x = int(input('Digite um número positivo: '))\n",
        "##print(f'{x} ao quadrado é',x**2)\n",
        "print(f'{x} ao quadrado utilizando o import math é',math.pow(x,2))\n",
        "print(f'{x} ao cubo utilizando o import math é',math.pow(x,3))\n",
        "print(f'A raiz quadrade de {x} é',math.sqrt(x))\n",
        "print(f'A raiz cúbica de {x} é',math.pow(x,1/3))"
      ],
      "metadata": {
        "id": "ObKjoOg78dDz"
      },
      "execution_count": null,
      "outputs": []
    },
    {
      "cell_type": "code",
      "source": [
        "#6\n",
        "conta = float(input('Qual o valor da conta a ser paga? '))\n",
        "taxa  = float(input('Qual o valor da taxa de serviço? '))\n",
        "print('O valor a ser pago de gorgeta é',conta*(taxa/100))"
      ],
      "metadata": {
        "id": "KjW8Whze8dWP"
      },
      "execution_count": null,
      "outputs": []
    },
    {
      "cell_type": "code",
      "source": [
        "#7\n",
        "x = int(input('Digite um número: '))\n",
        "print(f'O antecessor de {x} é ',x-1)\n",
        "print(f'O sucessor de {x} é ',x+1)\n",
        "print(f'O dobro de {x} é ',x+x)\n",
        "print(f'A metade de {x} é ',x/2)"
      ],
      "metadata": {
        "id": "vKYy87Lc8da0"
      },
      "execution_count": null,
      "outputs": []
    },
    {
      "cell_type": "code",
      "source": [
        "#8\n",
        "altura = float(input('Qual a sua altura (em metros)? '))\n",
        "p = (72.7*altura)-58\n",
        "print(f'Para a altura {altura} de um homem o peso ideal é {round(p,2)} kg')"
      ],
      "metadata": {
        "id": "r9KuVtNb2VrD"
      },
      "execution_count": null,
      "outputs": []
    },
    {
      "cell_type": "code",
      "source": [
        "#9\n",
        "altura = float(input('Qual a sua altura (em metros)? '))\n",
        "p = (62.1*altura)-44.7\n",
        "print(f'Para a altura {altura} de uma mulher o peso ideal é {round(p,2)} kg')"
      ],
      "metadata": {
        "id": "2tsQ3K2776os"
      },
      "execution_count": null,
      "outputs": []
    },
    {
      "cell_type": "code",
      "source": [
        "#10\n",
        "a = int(input('Digite um número: '))\n",
        "b = int(input('Digite um número: '))\n",
        "a, b = b, a\n",
        "print(f'a é ',a)\n",
        "print(f'b é ',b)"
      ],
      "metadata": {
        "id": "1rlXm5S88-GU"
      },
      "execution_count": null,
      "outputs": []
    },
    {
      "cell_type": "code",
      "source": [
        "#11\n",
        "eleitores = int(input('Digite o número total de eleitores: '))\n",
        "votos_1 = int(input('Digite o número de votos do primeiro candidato: '))\n",
        "votos_2 = int(input('Digite o número de votos do segundo candidato: '))\n",
        "\n",
        "votos_nulos = eleitores - votos_1 - votos_2\n",
        "\n",
        "perc_cand1 = (votos_1 / eleitores) * 100\n",
        "perc_cand2 = (votos_1 / eleitores) * 100\n",
        "perc_nulos = (votos_nulos / eleitores) * 100\n",
        "\n",
        "print('Percentual de votos do primeiro candidato: {:.2f}%'.format(perc_cand1))\n",
        "print('Percentual de votos do segundo candidato: {:.2f}%'.format(perc_cand2))\n",
        "print('Percentual de votos nulos: {:.2f}%'.format(perc_nulos))"
      ],
      "metadata": {
        "id": "r0bjJEUy9jvm"
      },
      "execution_count": null,
      "outputs": []
    }
  ]
}