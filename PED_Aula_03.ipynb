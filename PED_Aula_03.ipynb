{
  "nbformat": 4,
  "nbformat_minor": 0,
  "metadata": {
    "colab": {
      "provenance": [],
      "authorship_tag": "ABX9TyMZ4NCaNYwhPmJ+VvmNIg5F",
      "include_colab_link": true
    },
    "kernelspec": {
      "name": "python3",
      "display_name": "Python 3"
    },
    "language_info": {
      "name": "python"
    }
  },
  "cells": [
    {
      "cell_type": "markdown",
      "metadata": {
        "id": "view-in-github",
        "colab_type": "text"
      },
      "source": [
        "<a href=\"https://colab.research.google.com/github/ericgbraz/COLAB_PED/blob/main/PED_Aula_03.ipynb\" target=\"_parent\"><img src=\"https://colab.research.google.com/assets/colab-badge.svg\" alt=\"Open In Colab\"/></a>"
      ]
    },
    {
      "cell_type": "markdown",
      "source": [
        "**LISTA**"
      ],
      "metadata": {
        "id": "O-yUlS9d7CIF"
      }
    },
    {
      "cell_type": "code",
      "execution_count": 1,
      "metadata": {
        "id": "DFYScWuoUGH8",
        "colab": {
          "base_uri": "https://localhost:8080/"
        },
        "outputId": "e3551554-f172-40d5-c37b-3017d1bf9647"
      },
      "outputs": [
        {
          "output_type": "stream",
          "name": "stdout",
          "text": [
            "<class 'list'>\n",
            "1\n",
            "3\n"
          ]
        }
      ],
      "source": [
        "lista = [] \n",
        "lista2 = [1, 2, 'Introdução a Python', [1,3,4]] \n",
        "print(type(lista)) #<class 'list’>#Os elementos de uma lista são acessados através de seu índice (iniciando em 0) \n",
        "print(lista2[0]) #1 print(lista2[3]) #[1,3,4] \n",
        "print(lista2[3][1]) #??"
      ]
    },
    {
      "cell_type": "code",
      "source": [
        "lista1 = [1, 2, 3]\n",
        "lista2 = [4, 5, 6]\n",
        "lista3 = lista1 + lista2\n",
        "print('Concatenação de duas listas:', lista3)\n",
        "#Concatenação de duas listas:[1, 2, 3, 4, 5, 6]\n",
        "\n",
        "lista4 = lista1 * 3\n",
        "print('Repetição de elementos de uma lista: ', lista4)\n",
        "#Repetição de elementos de uma lista: [1, 2, 3, 1, 2, 3, 1, 2, 3]\n"
      ],
      "metadata": {
        "colab": {
          "base_uri": "https://localhost:8080/"
        },
        "id": "pyYJFiS-bKS2",
        "outputId": "a8eec48a-64aa-42f2-9fec-53f5c1836778"
      },
      "execution_count": 2,
      "outputs": [
        {
          "output_type": "stream",
          "name": "stdout",
          "text": [
            "Concatenação de duas listas: [1, 2, 3, 4, 5, 6]\n",
            "Repetição de elementos de uma lista:  [1, 2, 3, 1, 2, 3, 1, 2, 3]\n"
          ]
        }
      ]
    },
    {
      "cell_type": "code",
      "source": [
        "lista = [1, 2, 3, 10, 25]\n",
        "print('Verificando elementos na lista: ')\n",
        "print(34 in lista)\n",
        "print(10 in lista)\n"
      ],
      "metadata": {
        "colab": {
          "base_uri": "https://localhost:8080/"
        },
        "id": "13_JYHRUbX4Z",
        "outputId": "be5bfd3e-982e-4b2b-b1c4-5196ec58f5c9"
      },
      "execution_count": 3,
      "outputs": [
        {
          "output_type": "stream",
          "name": "stdout",
          "text": [
            "Verificando elementos na lista: \n",
            "False\n",
            "True\n"
          ]
        }
      ]
    },
    {
      "cell_type": "code",
      "source": [
        "lista1 = [100, 3, 'Introdução a Python', [10,20,30]]\n",
        "print('Percorrendo a lista...')\n",
        "for l in lista1:\n",
        "    print(l)\n"
      ],
      "metadata": {
        "colab": {
          "base_uri": "https://localhost:8080/"
        },
        "id": "78ms4OpybxYI",
        "outputId": "8c29d187-4598-491a-97d5-31c642f79c0f"
      },
      "execution_count": 4,
      "outputs": [
        {
          "output_type": "stream",
          "name": "stdout",
          "text": [
            "Percorrendo a lista...\n",
            "100\n",
            "3\n",
            "Introdução a Python\n",
            "[10, 20, 30]\n"
          ]
        }
      ]
    },
    {
      "cell_type": "code",
      "source": [
        "lista = [100, 3, 'Introdução a Python', [10,20,30],['Palmeiras','tem',10, 'títulos']]\n",
        "print('Percorrendo a lista...')\n",
        "for l in lista:\n",
        "    if (isinstance(l, list)):\n",
        "      for l2 in l:\n",
        "        print(l2)\n",
        "    else:\n",
        "      print(l)\n"
      ],
      "metadata": {
        "colab": {
          "base_uri": "https://localhost:8080/"
        },
        "id": "RQvxmBQWcBdb",
        "outputId": "a7a436a8-027f-4315-de62-df00b0bd8adf"
      },
      "execution_count": 5,
      "outputs": [
        {
          "output_type": "stream",
          "name": "stdout",
          "text": [
            "Percorrendo a lista...\n",
            "100\n",
            "3\n",
            "Introdução a Python\n",
            "10\n",
            "20\n",
            "30\n",
            "Palmeiras\n",
            "tem\n",
            "10\n",
            "títulos\n"
          ]
        }
      ]
    },
    {
      "cell_type": "code",
      "source": [
        "lista = [1, 2, 3, 10, 25]\n",
        "print('Fatiando a lista: ' + str(lista[1:4]))\n",
        "print('Imprimindo a lista em ordem inversa: ' + str(lista[::-1]))\n"
      ],
      "metadata": {
        "colab": {
          "base_uri": "https://localhost:8080/"
        },
        "id": "YJTUrOPEdIL1",
        "outputId": "a0502022-b7d6-445d-a7ed-0a04488d0f61"
      },
      "execution_count": 6,
      "outputs": [
        {
          "output_type": "stream",
          "name": "stdout",
          "text": [
            "Fatiando a lista: [2, 3, 10]\n",
            "Imprimindo a lista em ordem inversa: [25, 10, 3, 2, 1]\n"
          ]
        }
      ]
    },
    {
      "cell_type": "code",
      "source": [
        "lista = [190, 87, 3, 82, 4]\n",
        "print('Maior elemento da lista: ', max(lista))\n",
        "print('Menor elemento da lista: ', min(lista))\n",
        "print('Soma dos elementos da lista: ', sum(lista))\n",
        "print('Quantidade de elementos da lista: ', len(lista))\n",
        "print('Média dos elementos da lista: ', sum(lista)/len(lista))\n",
        "\n",
        "import numpy as np\n",
        "print('Média dos elementos da lista utilizando a biblioteca numpy: ', np.mean(lista))\n"
      ],
      "metadata": {
        "colab": {
          "base_uri": "https://localhost:8080/"
        },
        "id": "M4Q1yKLrdunr",
        "outputId": "0afcc9ed-d1d0-4160-92c8-eb907898e84b"
      },
      "execution_count": 7,
      "outputs": [
        {
          "output_type": "stream",
          "name": "stdout",
          "text": [
            "Maior elemento da lista:  190\n",
            "Menor elemento da lista:  3\n",
            "Soma dos elementos da lista:  366\n",
            "Quantidade de elementos da lista:  5\n",
            "Média dos elementos da lista:  73.2\n",
            "Média dos elementos da lista utilizando a biblioteca numpy:  73.2\n"
          ]
        }
      ]
    },
    {
      "cell_type": "code",
      "source": [
        "lista = []\n",
        "print('Adicionando itens no final da lista...')\n",
        "lista.append('Introdução a Python')\n",
        "lista.append('Redes de Computadores')\n",
        "print(lista)\n",
        "print('Adicionando item em uma posição específica...')\n",
        "lista.insert(1, 'Banco de Dados')\n",
        "print(lista)\n"
      ],
      "metadata": {
        "colab": {
          "base_uri": "https://localhost:8080/"
        },
        "id": "QXm-HA9LeHgd",
        "outputId": "49ec9177-ba53-4aa1-9a16-d070608d2210"
      },
      "execution_count": 8,
      "outputs": [
        {
          "output_type": "stream",
          "name": "stdout",
          "text": [
            "Adicionando itens no final da lista...\n",
            "['Introdução a Python', 'Redes de Computadores']\n",
            "Adicionando item em uma posição específica...\n",
            "['Introdução a Python', 'Banco de Dados', 'Redes de Computadores']\n"
          ]
        }
      ]
    },
    {
      "cell_type": "code",
      "source": [
        "from random import *\n",
        "print ('Gerando número real entre 0 e 1:', random())\n",
        "print ('Gerando número real entre 10 e 20:', uniform(10,20))\n",
        "print ('Gerando número inteiro entre 10 e 20:', randint(10,20))\n",
        "print ('Gerando número par entre 10 e 20:', randrange(10,20,2))\n"
      ],
      "metadata": {
        "colab": {
          "base_uri": "https://localhost:8080/"
        },
        "id": "RafhbAejeX4u",
        "outputId": "372aee82-7f64-4010-cc9b-2b1fa42362b7"
      },
      "execution_count": 9,
      "outputs": [
        {
          "output_type": "stream",
          "name": "stdout",
          "text": [
            "Gerando número real entre 0 e 1: 0.0076027241039902105\n",
            "Gerando número real entre 10 e 20: 14.847331619357732\n",
            "Gerando número inteiro entre 10 e 20: 19\n",
            "Gerando número par entre 10 e 20: 16\n"
          ]
        }
      ]
    },
    {
      "cell_type": "code",
      "source": [
        "from random import sample\n",
        " \n",
        "lista = sample(range(1, 101), 10)\n",
        "print('Lista com números aleatórios de 1 a 100:' + str(lista))\n"
      ],
      "metadata": {
        "id": "76jO7YYcfpuv",
        "outputId": "66b47363-926f-46b7-8916-c7cd1a14cdcc",
        "colab": {
          "base_uri": "https://localhost:8080/"
        }
      },
      "execution_count": 10,
      "outputs": [
        {
          "output_type": "stream",
          "name": "stdout",
          "text": [
            "Lista com números aleatórios de 1 a 100:[14, 93, 58, 95, 69, 74, 3, 73, 72, 10]\n"
          ]
        }
      ]
    },
    {
      "cell_type": "code",
      "source": [
        "lista1 = [1, 2, 5, 7]\n",
        "lista2 = [3, 6]\n",
        "lista1.extend(lista2)\n",
        "print('Juntando duas listas:', lista1)\n"
      ],
      "metadata": {
        "id": "fp_h8H57fvaB",
        "outputId": "e3de92f7-239e-4d31-ca61-2e41cd8a6bff",
        "colab": {
          "base_uri": "https://localhost:8080/"
        }
      },
      "execution_count": 11,
      "outputs": [
        {
          "output_type": "stream",
          "name": "stdout",
          "text": [
            "Juntando duas listas: [1, 2, 5, 7, 3, 6]\n"
          ]
        }
      ]
    },
    {
      "cell_type": "code",
      "source": [
        "lista = [8, 89, 65, 63, 76, 8]\n",
        "print('Quantidade de ocorrências do número 8 na lista: ' ,lista.count(8))\n",
        "print('Posição da primeira ocorrência do número 8 na lista: ', lista.index(8))\n",
        "print('Posição a primeira ocorrência do número 8 a partir da posição 1:', lista.index(8, 1))\n"
      ],
      "metadata": {
        "id": "xtuvLeoEf4dw",
        "outputId": "57320964-ac30-45d8-c0dc-762365defcaf",
        "colab": {
          "base_uri": "https://localhost:8080/"
        }
      },
      "execution_count": 25,
      "outputs": [
        {
          "output_type": "stream",
          "name": "stdout",
          "text": [
            "Quantidade de ocorrências do número 8 na lista:  2\n",
            "Posição da primeira ocorrência do número 8 na lista:  0\n",
            "Posição a primeira ocorrência do número 8 a partir da posição 1: 5\n"
          ]
        }
      ]
    },
    {
      "cell_type": "code",
      "source": [
        "lista = [1, 2, 78, 64, 3, 1, 1]\n",
        "print('Removendo o último elemento:', lista.pop())\n",
        "print('Removendo o elemento de posição 2:' , lista.pop(2))\n",
        "print('Removendo a primeira ocorrência do número 1...')\n",
        "lista.remove(1)\n",
        "print(lista)\n"
      ],
      "metadata": {
        "id": "KRqoNO7pguh5",
        "outputId": "3ac52df5-4b41-48bb-fbe7-baf6321651e9",
        "colab": {
          "base_uri": "https://localhost:8080/"
        }
      },
      "execution_count": 14,
      "outputs": [
        {
          "output_type": "stream",
          "name": "stdout",
          "text": [
            "Removendo o último elemento: 1\n",
            "Removendo o elemento de posição 2: 78\n",
            "Removendo a primeira ocorrência do número 1...\n",
            "[2, 64, 3, 1]\n"
          ]
        }
      ]
    },
    {
      "cell_type": "code",
      "source": [
        "lista = [1, 2, 7, 5, 9, 12]\n",
        "lista.sort()\n",
        "print('Lista ordenada:', lista)\n",
        "lista.reverse()\n",
        "print('Após inverter a lista:', lista)\n"
      ],
      "metadata": {
        "id": "zSDo2o-ihHuG",
        "outputId": "dea18a9a-68d5-4946-ab46-09312278d6ad",
        "colab": {
          "base_uri": "https://localhost:8080/"
        }
      },
      "execution_count": 16,
      "outputs": [
        {
          "output_type": "stream",
          "name": "stdout",
          "text": [
            "Lista ordenada: [1, 2, 5, 7, 9, 12]\n",
            "Após inverter a lista: [12, 9, 7, 5, 2, 1]\n"
          ]
        }
      ]
    },
    {
      "cell_type": "code",
      "source": [
        "lista = [8, 89, 65, 63, 76, 8,8,10,8]\n",
        "l_posicoes = []\n",
        "pos = 0\n",
        "for i in range(1, lista.count(8) + 1):\n",
        "  pos = lista.index(8, pos)\n",
        "  print(pos)\n",
        "  l_posicoes.append(pos)\n",
        "  pos = pos + 1\n",
        "\n",
        "print(l_posicoes)"
      ],
      "metadata": {
        "id": "JIb_9RK6iWAM",
        "outputId": "b2f1b0db-3ba6-4b90-df0a-047e63159612",
        "colab": {
          "base_uri": "https://localhost:8080/"
        }
      },
      "execution_count": 19,
      "outputs": [
        {
          "output_type": "stream",
          "name": "stdout",
          "text": [
            "0\n",
            "5\n",
            "6\n",
            "8\n",
            "[0, 5, 6, 8]\n"
          ]
        }
      ]
    },
    {
      "cell_type": "code",
      "source": [
        "lista = [2, 4, 6, 7, 9, 13, 14]\n",
        "\n",
        "from random import shuffle\n",
        "\n",
        "shuffle(lista)\n",
        "print('Embaralhando a lista: ', lista)\n"
      ],
      "metadata": {
        "id": "5YHoLB8qjb3b",
        "outputId": "0f67b3cd-0226-4cf7-d4fd-38124ef6f87e",
        "colab": {
          "base_uri": "https://localhost:8080/"
        }
      },
      "execution_count": 20,
      "outputs": [
        {
          "output_type": "stream",
          "name": "stdout",
          "text": [
            "Embaralhando a lista:  [2, 4, 6, 9, 7, 13, 14]\n"
          ]
        }
      ]
    },
    {
      "cell_type": "code",
      "source": [
        "lista = ['Introdução a Python', 'Banco de Dados', 'Redes de Computadores']\n",
        "print('Utilizando o join com listas: ', ';'.join(lista))\n"
      ],
      "metadata": {
        "id": "rEojg0nYjdtf",
        "outputId": "607ecef0-2c30-4f9c-9adc-96f2ce9558e7",
        "colab": {
          "base_uri": "https://localhost:8080/"
        }
      },
      "execution_count": 21,
      "outputs": [
        {
          "output_type": "stream",
          "name": "stdout",
          "text": [
            "Utilizando o join com listas:  Introdução a Python;Banco de Dados;Redes de Computadores\n"
          ]
        }
      ]
    },
    {
      "cell_type": "code",
      "source": [
        "frase = 'Exemplo do uso de split em Python'\n",
        "lista = frase.split()\n",
        "print(type(lista))\n",
        "print(lista)\n"
      ],
      "metadata": {
        "id": "uX78AEVMjdlu",
        "outputId": "7e5edd23-c45f-4583-c2d4-ba04e063904d",
        "colab": {
          "base_uri": "https://localhost:8080/"
        }
      },
      "execution_count": 22,
      "outputs": [
        {
          "output_type": "stream",
          "name": "stdout",
          "text": [
            "<class 'list'>\n",
            "['Exemplo', 'do', 'uso', 'de', 'split', 'em', 'Python']\n"
          ]
        }
      ]
    },
    {
      "cell_type": "code",
      "source": [
        "data = input(\"Digite uma data:\")\n",
        "\n",
        "data = data.replace('-', '/')\n",
        "\n",
        "print(data)"
      ],
      "metadata": {
        "id": "6QN0UwsqlwWB",
        "outputId": "7c3f1cde-6d45-48b6-ea11-1d87c3cdfd64",
        "colab": {
          "base_uri": "https://localhost:8080/"
        }
      },
      "execution_count": 24,
      "outputs": [
        {
          "output_type": "stream",
          "name": "stdout",
          "text": [
            "Digite uma data:aaa\n",
            "aaa\n"
          ]
        }
      ]
    },
    {
      "cell_type": "markdown",
      "source": [
        "**TUPLA**"
      ],
      "metadata": {
        "id": "QSf2H0LF6-Tj"
      }
    },
    {
      "cell_type": "code",
      "source": [
        "tupla = (1, 2, 78, 64, 3)\n",
        "tupla2 = ()\n",
        "tupla3 = (10) #não é considerada tupla (considerado valor inteiro)\n",
        "tupla4 = (10,)\n",
        "print(type(tupla), type(tupla2), type(tupla3), type(tupla4))\n"
      ],
      "metadata": {
        "id": "5M63tp7i2CG2",
        "outputId": "5c3731cf-9e11-437f-da6f-7d1c2c0b5118",
        "colab": {
          "base_uri": "https://localhost:8080/"
        }
      },
      "execution_count": 26,
      "outputs": [
        {
          "output_type": "stream",
          "name": "stdout",
          "text": [
            "<class 'tuple'> <class 'tuple'> <class 'int'> <class 'tuple'>\n"
          ]
        }
      ]
    },
    {
      "cell_type": "code",
      "source": [
        "tupla = (1, 2, 78, 64, 3)\n",
        "tupla = tupla[2:] + (50,) #uma nova tupla é criada\n",
        "print(tupla)\n",
        "tupla = (1, 2, 78, 64, 3)\n",
        "tupla = tupla[1:3] * 3 #uma nova tupla é criada\n",
        "print(tupla)\n"
      ],
      "metadata": {
        "id": "RHpYYIqi3QIC",
        "outputId": "36f275e4-2d97-4511-80e5-3a1cb9df4407",
        "colab": {
          "base_uri": "https://localhost:8080/"
        }
      },
      "execution_count": 27,
      "outputs": [
        {
          "output_type": "stream",
          "name": "stdout",
          "text": [
            "(78, 64, 3, 50)\n",
            "(2, 78, 2, 78, 2, 78)\n"
          ]
        }
      ]
    },
    {
      "cell_type": "code",
      "source": [
        "def maiorMenor(a, b):\n",
        "    if (a > b):\n",
        "        return (a, b)\n",
        "    else:\n",
        "        return (b, a)\n",
        "\n",
        "tupla = maiorMenor(5, 8)\n",
        "print(type(tupla))\n",
        "maior, menor = maiorMenor(5, 8)\n",
        "print('Tupla: ', tupla)\n",
        "print('Maior:',maior, 'Menor:', menor)\n"
      ],
      "metadata": {
        "id": "EQFJD1co3QDv",
        "outputId": "667e3000-58c2-4e4b-8392-8e727782a32d",
        "colab": {
          "base_uri": "https://localhost:8080/"
        }
      },
      "execution_count": 28,
      "outputs": [
        {
          "output_type": "stream",
          "name": "stdout",
          "text": [
            "<class 'tuple'>\n",
            "Tupla:  (8, 5)\n",
            "Maior: 8 Menor: 5\n"
          ]
        }
      ]
    },
    {
      "cell_type": "markdown",
      "source": [
        "**DICIONÁRIO**"
      ],
      "metadata": {
        "id": "30Ksyurq7Vxn"
      }
    },
    {
      "cell_type": "code",
      "source": [
        "alunos = {3035: 'Alexandre', 8965: 'Maria', 7674: 'Carlos', 6758: 'José'}\n",
        "print(type(alunos))\n",
        "print(alunos)\n",
        "print(len(alunos))\n"
      ],
      "metadata": {
        "id": "YL7CpzNv3Zyf",
        "outputId": "0be347f0-0c0e-40ac-b233-5556f80a01b7",
        "colab": {
          "base_uri": "https://localhost:8080/"
        }
      },
      "execution_count": 29,
      "outputs": [
        {
          "output_type": "stream",
          "name": "stdout",
          "text": [
            "<class 'dict'>\n",
            "{3035: 'Alexandre', 8965: 'Maria', 7674: 'Carlos', 6758: 'José'}\n",
            "4\n"
          ]
        }
      ]
    },
    {
      "cell_type": "code",
      "source": [
        "alunos = {3035: 'Alexandre', 8965: 'Maria', 7674: 'Carlos', 6758: 'José'}\n",
        "print('Chaves do dicionário: ', alunos.keys())\n",
        "print('Valores do dicionário: ', alunos.values())\n",
        "print('Percorrendo o dicionário...')\n",
        "for chave in alunos:\n",
        "    print('Chave: ', chave, 'Valor: ', alunos[chave])\n"
      ],
      "metadata": {
        "id": "gghR-TNQ3k52",
        "outputId": "95a18636-a5d3-444e-eeb7-6f5f5e9dd503",
        "colab": {
          "base_uri": "https://localhost:8080/"
        }
      },
      "execution_count": 30,
      "outputs": [
        {
          "output_type": "stream",
          "name": "stdout",
          "text": [
            "Chaves do dicionário:  dict_keys([3035, 8965, 7674, 6758])\n",
            "Valores do dicionário:  dict_values(['Alexandre', 'Maria', 'Carlos', 'José'])\n",
            "Percorrendo o dicionário...\n",
            "Chave:  3035 Valor:  Alexandre\n",
            "Chave:  8965 Valor:  Maria\n",
            "Chave:  7674 Valor:  Carlos\n",
            "Chave:  6758 Valor:  José\n"
          ]
        }
      ]
    },
    {
      "cell_type": "code",
      "source": [
        "contatos = {'Alexandre': '998549398', 'Maria': '975748315', 'Carlos': '975634251', 'José': '996453261'}\n",
        "print(contatos)\n",
        "\n",
        "print(contatos['Maria'])\n",
        "\n",
        "for chave in contatos:\n",
        "    print('Nome:', chave, 'Telefone:', contatos[chave])\n",
        "    \n",
        "print(contatos.get('Sílvia', 'Contato não encontrado')) #para não produzir erro   \n"
      ],
      "metadata": {
        "id": "eS0CDDJz4Lh1",
        "outputId": "6c2d0d0f-19e0-4b30-f3a4-fda397347dc4",
        "colab": {
          "base_uri": "https://localhost:8080/"
        }
      },
      "execution_count": 31,
      "outputs": [
        {
          "output_type": "stream",
          "name": "stdout",
          "text": [
            "{'Alexandre': '998549398', 'Maria': '975748315', 'Carlos': '975634251', 'José': '996453261'}\n",
            "975748315\n",
            "Nome: Alexandre Telefone: 998549398\n",
            "Nome: Maria Telefone: 975748315\n",
            "Nome: Carlos Telefone: 975634251\n",
            "Nome: José Telefone: 996453261\n",
            "Contato não encontrado\n"
          ]
        }
      ]
    },
    {
      "cell_type": "code",
      "source": [
        "alunos = {3035: 'Alexandre', 8965: 'Maria', 7674: 'Carlos', 6758: 'Lucas'}\n",
        "\n",
        "for RA, nome in alunos.items():\n",
        "    print('RA:', RA, 'nome:', nome)\n",
        "\n",
        "search = 'alexandre'\n",
        "print('Procurando Alexandre...')\n",
        "\n",
        "for RA, nome in alunos.items():\n",
        "    if (search.lower() == nome.lower()):\n",
        "        print('RA:', RA, 'nome:', nome)\n"
      ],
      "metadata": {
        "id": "Yar6ztvc4jAN",
        "outputId": "629d85af-dd9f-4719-9312-dfa3db0decf6",
        "colab": {
          "base_uri": "https://localhost:8080/"
        }
      },
      "execution_count": 32,
      "outputs": [
        {
          "output_type": "stream",
          "name": "stdout",
          "text": [
            "RA: 3035 nome: Alexandre\n",
            "RA: 8965 nome: Maria\n",
            "RA: 7674 nome: Carlos\n",
            "RA: 6758 nome: Lucas\n",
            "Procurando Alexandre...\n",
            "RA: 3035 nome: Alexandre\n"
          ]
        }
      ]
    },
    {
      "cell_type": "code",
      "source": [
        "contatos = {\n",
        "    'Alexandre': '998549398', \n",
        "    'Maria': {'TEL': '975748315', 'END': 'Rua x, 100'}, \n",
        "    'Carlos': '975634251', \n",
        "    'José': '996453261'\n",
        "}\n",
        "\n",
        "print(contatos['José'])\n",
        "#print(contatos['Maria']['TEL'])\n"
      ],
      "metadata": {
        "id": "s6a89IeM54pi",
        "outputId": "4d9f9579-cd11-4ba6-85b8-258d1e281aa6",
        "colab": {
          "base_uri": "https://localhost:8080/"
        }
      },
      "execution_count": 41,
      "outputs": [
        {
          "output_type": "stream",
          "name": "stdout",
          "text": [
            "996453264\n"
          ]
        }
      ]
    },
    {
      "cell_type": "code",
      "source": [
        "lista_contatos = [('Alexandre', '9065868'), ('Pedro', '998679999'),\n",
        "                    ('Maria', '987654321'), ('Carla', '988777788')]\n",
        "\n",
        "contatos = dict(lista_contatos)\n",
        "print('Transformando uma lista em dicionário: ', contatos)\n"
      ],
      "metadata": {
        "id": "BRg0IF9j6zNR"
      },
      "execution_count": null,
      "outputs": []
    }
  ]
}