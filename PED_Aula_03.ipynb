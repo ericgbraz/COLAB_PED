{
  "nbformat": 4,
  "nbformat_minor": 0,
  "metadata": {
    "colab": {
      "provenance": [],
      "authorship_tag": "ABX9TyNfvuiidP9NVLK31vNoEyQP",
      "include_colab_link": true
    },
    "kernelspec": {
      "name": "python3",
      "display_name": "Python 3"
    },
    "language_info": {
      "name": "python"
    }
  },
  "cells": [
    {
      "cell_type": "markdown",
      "metadata": {
        "id": "view-in-github",
        "colab_type": "text"
      },
      "source": [
        "<a href=\"https://colab.research.google.com/github/ericgbraz/COLAB_PED/blob/main/PED_Aula_03.ipynb\" target=\"_parent\"><img src=\"https://colab.research.google.com/assets/colab-badge.svg\" alt=\"Open In Colab\"/></a>"
      ]
    },
    {
      "cell_type": "code",
      "execution_count": 1,
      "metadata": {
        "id": "DFYScWuoUGH8",
        "outputId": "e3551554-f172-40d5-c37b-3017d1bf9647",
        "colab": {
          "base_uri": "https://localhost:8080/"
        }
      },
      "outputs": [
        {
          "output_type": "stream",
          "name": "stdout",
          "text": [
            "<class 'list'>\n",
            "1\n",
            "3\n"
          ]
        }
      ],
      "source": [
        "lista = [] \n",
        "lista2 = [1, 2, 'Introdução a Python', [1,3,4]] \n",
        "print(type(lista)) #<class 'list’>#Os elementos de uma lista são acessados através de seu índice (iniciando em 0) \n",
        "print(lista2[0]) #1 print(lista2[3]) #[1,3,4] \n",
        "print(lista2[3][1]) #??"
      ]
    },
    {
      "cell_type": "code",
      "source": [
        "lista1 = [1, 2, 3]\n",
        "lista2 = [4, 5, 6]\n",
        "lista3 = lista1 + lista2\n",
        "print('Concatenação de duas listas:', lista3)\n",
        "#Concatenação de duas listas:[1, 2, 3, 4, 5, 6]\n",
        "\n",
        "lista4 = lista1 * 3\n",
        "print('Repetição de elementos de uma lista: ', lista4)\n",
        "#Repetição de elementos de uma lista: [1, 2, 3, 1, 2, 3, 1, 2, 3]\n"
      ],
      "metadata": {
        "id": "pyYJFiS-bKS2",
        "outputId": "a8eec48a-64aa-42f2-9fec-53f5c1836778",
        "colab": {
          "base_uri": "https://localhost:8080/"
        }
      },
      "execution_count": 2,
      "outputs": [
        {
          "output_type": "stream",
          "name": "stdout",
          "text": [
            "Concatenação de duas listas: [1, 2, 3, 4, 5, 6]\n",
            "Repetição de elementos de uma lista:  [1, 2, 3, 1, 2, 3, 1, 2, 3]\n"
          ]
        }
      ]
    },
    {
      "cell_type": "code",
      "source": [
        "lista = [1, 2, 3, 10, 25]\n",
        "print('Verificando elementos na lista: ')\n",
        "print(34 in lista)\n",
        "print(10 in lista)\n"
      ],
      "metadata": {
        "id": "13_JYHRUbX4Z",
        "outputId": "be5bfd3e-982e-4b2b-b1c4-5196ec58f5c9",
        "colab": {
          "base_uri": "https://localhost:8080/"
        }
      },
      "execution_count": 3,
      "outputs": [
        {
          "output_type": "stream",
          "name": "stdout",
          "text": [
            "Verificando elementos na lista: \n",
            "False\n",
            "True\n"
          ]
        }
      ]
    },
    {
      "cell_type": "code",
      "source": [
        "lista1 = [100, 3, 'Introdução a Python', [10,20,30]]\n",
        "print('Percorrendo a lista...')\n",
        "for l in lista1:\n",
        "    print(l)\n"
      ],
      "metadata": {
        "id": "78ms4OpybxYI",
        "outputId": "8c29d187-4598-491a-97d5-31c642f79c0f",
        "colab": {
          "base_uri": "https://localhost:8080/"
        }
      },
      "execution_count": 4,
      "outputs": [
        {
          "output_type": "stream",
          "name": "stdout",
          "text": [
            "Percorrendo a lista...\n",
            "100\n",
            "3\n",
            "Introdução a Python\n",
            "[10, 20, 30]\n"
          ]
        }
      ]
    },
    {
      "cell_type": "code",
      "source": [
        "lista = [100, 3, 'Introdução a Python', [10,20,30],['Palmeiras','tem',10, 'títulos']]\n",
        "print('Percorrendo a lista...')\n",
        "for l in lista:\n",
        "    if (isinstance(l, list)):\n",
        "      for l2 in l:\n",
        "        print(l2)\n",
        "    else:\n",
        "      print(l)\n"
      ],
      "metadata": {
        "id": "RQvxmBQWcBdb",
        "outputId": "a7a436a8-027f-4315-de62-df00b0bd8adf",
        "colab": {
          "base_uri": "https://localhost:8080/"
        }
      },
      "execution_count": 5,
      "outputs": [
        {
          "output_type": "stream",
          "name": "stdout",
          "text": [
            "Percorrendo a lista...\n",
            "100\n",
            "3\n",
            "Introdução a Python\n",
            "10\n",
            "20\n",
            "30\n",
            "Palmeiras\n",
            "tem\n",
            "10\n",
            "títulos\n"
          ]
        }
      ]
    },
    {
      "cell_type": "code",
      "source": [
        "lista = [1, 2, 3, 10, 25]\n",
        "print('Fatiando a lista: ' + str(lista[1:4]))\n",
        "print('Imprimindo a lista em ordem inversa: ' + str(lista[::-1]))\n"
      ],
      "metadata": {
        "id": "YJTUrOPEdIL1",
        "outputId": "a0502022-b7d6-445d-a7ed-0a04488d0f61",
        "colab": {
          "base_uri": "https://localhost:8080/"
        }
      },
      "execution_count": 6,
      "outputs": [
        {
          "output_type": "stream",
          "name": "stdout",
          "text": [
            "Fatiando a lista: [2, 3, 10]\n",
            "Imprimindo a lista em ordem inversa: [25, 10, 3, 2, 1]\n"
          ]
        }
      ]
    },
    {
      "cell_type": "code",
      "source": [
        "lista = [190, 87, 3, 82, 4]\n",
        "print('Maior elemento da lista: ', max(lista))\n",
        "print('Menor elemento da lista: ', min(lista))\n",
        "print('Soma dos elementos da lista: ', sum(lista))\n",
        "print('Quantidade de elementos da lista: ', len(lista))\n",
        "print('Média dos elementos da lista: ', sum(lista)/len(lista))\n",
        "\n",
        "import numpy as np\n",
        "print('Média dos elementos da lista utilizando a biblioteca numpy: ', np.mean(lista))\n"
      ],
      "metadata": {
        "id": "M4Q1yKLrdunr",
        "outputId": "0afcc9ed-d1d0-4160-92c8-eb907898e84b",
        "colab": {
          "base_uri": "https://localhost:8080/"
        }
      },
      "execution_count": 7,
      "outputs": [
        {
          "output_type": "stream",
          "name": "stdout",
          "text": [
            "Maior elemento da lista:  190\n",
            "Menor elemento da lista:  3\n",
            "Soma dos elementos da lista:  366\n",
            "Quantidade de elementos da lista:  5\n",
            "Média dos elementos da lista:  73.2\n",
            "Média dos elementos da lista utilizando a biblioteca numpy:  73.2\n"
          ]
        }
      ]
    },
    {
      "cell_type": "code",
      "source": [
        "lista = []\n",
        "print('Adicionando itens no final da lista...')\n",
        "lista.append('Introdução a Python')\n",
        "lista.append('Redes de Computadores')\n",
        "print(lista)\n",
        "print('Adicionando item em uma posição específica...')\n",
        "lista.insert(1, 'Banco de Dados')\n",
        "print(lista)\n"
      ],
      "metadata": {
        "id": "QXm-HA9LeHgd",
        "outputId": "49ec9177-ba53-4aa1-9a16-d070608d2210",
        "colab": {
          "base_uri": "https://localhost:8080/"
        }
      },
      "execution_count": 8,
      "outputs": [
        {
          "output_type": "stream",
          "name": "stdout",
          "text": [
            "Adicionando itens no final da lista...\n",
            "['Introdução a Python', 'Redes de Computadores']\n",
            "Adicionando item em uma posição específica...\n",
            "['Introdução a Python', 'Banco de Dados', 'Redes de Computadores']\n"
          ]
        }
      ]
    },
    {
      "cell_type": "code",
      "source": [
        "from random import *\n",
        "print ('Gerando número real entre 0 e 1:', random())\n",
        "print ('Gerando número real entre 10 e 20:', uniform(10,20))\n",
        "print ('Gerando número inteiro entre 10 e 20:', randint(10,20))\n",
        "print ('Gerando número par entre 10 e 20:', randrange(10,20,2))\n"
      ],
      "metadata": {
        "id": "RafhbAejeX4u",
        "outputId": "372aee82-7f64-4010-cc9b-2b1fa42362b7",
        "colab": {
          "base_uri": "https://localhost:8080/"
        }
      },
      "execution_count": 9,
      "outputs": [
        {
          "output_type": "stream",
          "name": "stdout",
          "text": [
            "Gerando número real entre 0 e 1: 0.0076027241039902105\n",
            "Gerando número real entre 10 e 20: 14.847331619357732\n",
            "Gerando número inteiro entre 10 e 20: 19\n",
            "Gerando número par entre 10 e 20: 16\n"
          ]
        }
      ]
    }
  ]
}