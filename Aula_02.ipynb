{
  "nbformat": 4,
  "nbformat_minor": 0,
  "metadata": {
    "colab": {
      "provenance": [],
      "authorship_tag": "ABX9TyO7EFtWTk31vHGNGaT7kuud",
      "include_colab_link": true
    },
    "kernelspec": {
      "name": "python3",
      "display_name": "Python 3"
    },
    "language_info": {
      "name": "python"
    }
  },
  "cells": [
    {
      "cell_type": "markdown",
      "metadata": {
        "id": "view-in-github",
        "colab_type": "text"
      },
      "source": [
        "<a href=\"https://colab.research.google.com/github/ericgbraz/COLAB_PED/blob/main/Aula_02.ipynb\" target=\"_parent\"><img src=\"https://colab.research.google.com/assets/colab-badge.svg\" alt=\"Open In Colab\"/></a>"
      ]
    },
    {
      "cell_type": "code",
      "execution_count": 1,
      "metadata": {
        "id": "RwPIzlvuSVjL",
        "colab": {
          "base_uri": "https://localhost:8080/"
        },
        "outputId": "449d1e35-7439-459c-f48b-66a966b8bab6"
      },
      "outputs": [
        {
          "output_type": "stream",
          "name": "stdout",
          "text": [
            "Nome é formado por somente dígitos?  False\n",
            "Nome é formado por somente letras?  True\n",
            "Tamanho do nome: 6\n",
            "Nome em minúsculo: python\n",
            "Nome em maiúsculo: PYTHON\n",
            "Pesquisando uma substring em uma string:\n",
            "Acessando o conteúdo de uma string, caractere por caractere\n",
            "P\n",
            "y\n",
            "t\n",
            "h\n",
            "o\n",
            "n\n"
          ]
        }
      ],
      "source": [
        "#Exemplos de métodos de manipulação de strings\n",
        "nome = 'Python'\n",
        "print('Nome é formado por somente dígitos? ', nome.isdigit())\n",
        "print('Nome é formado por somente letras? ', nome.isalpha())\n",
        "print('Tamanho do nome:', len(nome)) #utilizada para coleções\n",
        "print('Nome em minúsculo:', nome.lower())\n",
        "print('Nome em maiúsculo:', nome.upper())\n",
        "print('Pesquisando uma substring em uma string:')\n",
        "'y' in nome #true\n",
        "print('Acessando o conteúdo de uma string, caractere por caractere')\n",
        "for c in nome:\n",
        "    print(c)\n"
      ]
    },
    {
      "cell_type": "code",
      "source": [
        "#Exemplos de métodos de manipulação de strings\n",
        "print('Convertendo um número para uma string: ' + str(10))\n",
        "nome = 'Python é uma linguagem interessante'\n",
        "print('Separação do conteúdo de uma string conforme um delimitador')\n",
        "print(nome.split())\n",
        "print(nome.split(\"a\")) #['Python é um', ' lingu', 'gem interess', 'nte’]\n",
        "nome = 'Python'\n",
        "print('Juntando cada item de uma string com um delimitador (inverso de split) ')\n",
        "print(','.join(nome)) #P,y,t,h,o,n\n"
      ],
      "metadata": {
        "id": "1z01u6UsyNp6"
      },
      "execution_count": null,
      "outputs": []
    },
    {
      "cell_type": "code",
      "source": [
        "#Exemplos de métodos de manipulação de strings\n",
        "nome = 'python'\n",
        "print('Removendo caracteres à direita ' + nome.rstrip('n'))\n",
        "print('Removendo caracteres à esquerda ' + nome.lstrip('pyt'))\n",
        "nome = '     texto com espaços     '\n",
        "print('Removendo espaços à direita e esquerda: ' + nome.strip())\n"
      ],
      "metadata": {
        "id": "fiXOWM51yQYl"
      },
      "execution_count": null,
      "outputs": []
    },
    {
      "cell_type": "code",
      "source": [
        "frase = 'Isso é uma frase. Isso é mais uma frase'\n",
        "nome = 'uma'\n",
        "print('Verificando se a palavra \"uma\" se encontra na frase ' + str(nome in frase))\n",
        "print('Localizando a palavra \"uma\" na frase: ' + str(frase.find(nome)))\n",
        "print('Localizando a palavra \"uma\" na frase a partir de uma determinada posição: ' + str(frase.find(nome, 10))) #find retorna -1 se não encontrar\n",
        "print('Quantidade de ocorrências da palavra \"uma\" na frase: ' + str(frase.count(nome)))"
      ],
      "metadata": {
        "id": "PzdUIELNyUVt"
      },
      "execution_count": null,
      "outputs": []
    },
    {
      "cell_type": "code",
      "source": [
        "nome = 'PYTHON'\n",
        "print(nome[1:5]) #YTHO – repare que a posição 5 é exclusiva\n",
        "print(nome[1:5:2]) #YH\n",
        "print(nome[:4]) #PYTH – omitindo a posição inicial, o default é 0\n",
        "print(nome[2:]) #THON – omitindo a posição final, o default é o fim da string\n",
        "print(nome[:]) #PYTHON\n",
        "print(nome[::-1]) #NOHTYP\n"
      ],
      "metadata": {
        "id": "jvqYRckbyufQ"
      },
      "execution_count": null,
      "outputs": []
    },
    {
      "cell_type": "code",
      "source": [
        "nome = 'Python'\n",
        "print('Palavra em ordem inversa, e maiúscula: ' + nome[::-1].upper())\n",
        "Palavra em ordem inversa, e maiúscula: NOHTYP\n",
        "\n",
        "print('Posição da letra p na palavra: ' + str(nome.find('p')))\n",
        "print('Posição da letra p na palavra: ' + str(nome.lower().find('p')))\n",
        "Posição da letra p na palavra: -1\n",
        "Posição da letra p na palavra: 0\n",
        "\n"
      ],
      "metadata": {
        "id": "MhqHglxCyum9"
      },
      "execution_count": null,
      "outputs": []
    }
  ]
}