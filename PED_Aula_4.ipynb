{
  "nbformat": 4,
  "nbformat_minor": 0,
  "metadata": {
    "colab": {
      "provenance": [],
      "authorship_tag": "ABX9TyPF0T+CkusRCHtRilkqfnAc",
      "include_colab_link": true
    },
    "kernelspec": {
      "name": "python3",
      "display_name": "Python 3"
    },
    "language_info": {
      "name": "python"
    }
  },
  "cells": [
    {
      "cell_type": "markdown",
      "metadata": {
        "id": "view-in-github",
        "colab_type": "text"
      },
      "source": [
        "<a href=\"https://colab.research.google.com/github/ericgbraz/COLAB_PED/blob/main/PED_Aula_4.ipynb\" target=\"_parent\"><img src=\"https://colab.research.google.com/assets/colab-badge.svg\" alt=\"Open In Colab\"/></a>"
      ]
    },
    {
      "cell_type": "markdown",
      "source": [
        "**SERIES**"
      ],
      "metadata": {
        "id": "71BmLy1VrwzF"
      }
    },
    {
      "cell_type": "code",
      "execution_count": null,
      "metadata": {
        "colab": {
          "base_uri": "https://localhost:8080/"
        },
        "id": "jZUVQ3o-YB5E",
        "outputId": "ab8893e6-e356-4649-f1fd-1b2161c9e3bd"
      },
      "outputs": [
        {
          "output_type": "stream",
          "name": "stdout",
          "text": [
            "0    10\n",
            "1    20\n",
            "2    43\n",
            "3    87\n",
            "4     3\n",
            "dtype: int64\n",
            "a    10\n",
            "b    20\n",
            "c    43\n",
            "d    87\n",
            "e     3\n",
            "dtype: int64\n",
            "João      10\n",
            "Maria     20\n",
            "Pedro     43\n",
            "Sílvia    87\n",
            "Alex       3\n",
            "dtype: int64\n"
          ]
        }
      ],
      "source": [
        "import pandas as pd\n",
        "\n",
        "#Criando uma série indexada por valores inteiros, iniciando em 0\n",
        "serie = pd.Series([10, 20, 43, 87, 3]) \n",
        "print(serie)\n",
        "\n",
        "#Criando uma série indexada por letras\n",
        "serie = pd.Series([10, 20, 43, 87, 3], index = ['a', 'b', 'c', 'd', 'e'])\n",
        "print(serie)\n",
        "\n",
        "#Criando uma série indexada por nomes\n",
        "serie = pd.Series([10, 20, 43, 87, 3], index = ['João', 'Maria', 'Pedro', 'Sílvia', 'Alex'])\n",
        "print(serie)"
      ]
    },
    {
      "cell_type": "code",
      "source": [
        "#Transformando um dicionário em uma série\n",
        "dicionario = {'João': 90, 'Maria': 86, 'André': 75, 'Carla': 94}\n",
        "\n",
        "serie = pd.Series(dicionario)\n",
        "serie\n",
        "\n",
        "\n",
        "import numpy as np\n",
        "\n",
        "#Trabalhando com valores nulos\n",
        "dicionario = {'João': 90, 'Maria': 86, 'André': 75, 'Carla': 94, 'Alex': np.NaN}\n",
        "\n",
        "serie = pd.Series(dicionario)\n",
        "#print(serie)\n",
        "#print()\n",
        "print(serie.isnull()) # Verificando os valores nulos na série\n"
      ],
      "metadata": {
        "colab": {
          "base_uri": "https://localhost:8080/"
        },
        "id": "Oosyq5DNrMAP",
        "outputId": "c4917cff-1957-411d-b31e-ba0837b8ceaa"
      },
      "execution_count": null,
      "outputs": [
        {
          "output_type": "stream",
          "name": "stdout",
          "text": [
            "\n"
          ]
        }
      ]
    },
    {
      "cell_type": "code",
      "source": [
        "funcionario = {'João': 1500, 'Maria': 2500, 'André': 3000.50, 'Carla': 4000.00, 'Alex': 30000.00}\n",
        "serie = pd.Series(funcionario)\n",
        "\n",
        "# Exibindo resumo estatístico da série\n",
        "serie.describe()\n",
        "\n",
        "#Ordenando a série pelo índice\n",
        "serie.sort_index(inplace = True)\n",
        "print(serie)\n",
        "\n",
        "print()\n",
        "#Ordenando a série pelo valor\n",
        "serie.sort_values(inplace = True)\n",
        "print(serie)\n"
      ],
      "metadata": {
        "colab": {
          "base_uri": "https://localhost:8080/"
        },
        "id": "UowxTIKJrvlW",
        "outputId": "a751f83f-9a2d-436a-fadb-3e10a2099e70"
      },
      "execution_count": null,
      "outputs": [
        {
          "output_type": "execute_result",
          "data": {
            "text/plain": [
              "count        5.000000\n",
              "mean      8200.100000\n",
              "std      12219.807693\n",
              "min       1500.000000\n",
              "25%       2500.000000\n",
              "50%       3000.500000\n",
              "75%       4000.000000\n",
              "max      30000.000000\n",
              "dtype: float64"
            ]
          },
          "metadata": {},
          "execution_count": 11
        }
      ]
    },
    {
      "cell_type": "code",
      "source": [
        "funcionario = {'João': 1500, 'Maria': 2500, 'André': 3000.50, 'Carla': 4000.00, 'Alex': 30000.00}\n",
        "serie = pd.Series(funcionario)\n",
        "\n",
        "# Verificando se um índice se encontra na série\n",
        "'João' in serie\n",
        "\n",
        "#Retornando o valor para o índice 'Carla'\n",
        "print(serie.loc['Carla'])\n",
        "print(serie['Carla'])\n",
        "\n",
        "#Retornando o valor para os índice 'Maria' e Carla'\n",
        "print(serie.loc[['Carla', 'Maria']])\n",
        "print(serie[['Carla', 'Maria']])\n",
        "\n",
        "#Retornando o valor para o índice 0\n",
        "print(serie.iloc[0])\n",
        "print(serie[0])\n",
        "\n",
        "#Retornando o valor para os índices 0 e 2\n",
        "print(serie.iloc[[0,2]])\n",
        "print(serie[[0,2]])\n"
      ],
      "metadata": {
        "id": "eH4ImDOWsukF"
      },
      "execution_count": null,
      "outputs": []
    },
    {
      "cell_type": "code",
      "source": [
        "funcionario = {'João': 1500, 'Maria': 2500, 'André': 3000.50, 'Carla': 4000.00, 'Alex': 30000.00}\n",
        "serie = pd.Series(funcionario)\n",
        "\n",
        "#Retornando os 3 primeiros registros da série\n",
        "print(serie.loc['João':'André'])\n",
        "print(serie['João':'André'])\n",
        "print(serie.iloc[0:3])\n",
        "print(serie[0:3])\n",
        "print(serie.head(3))\n",
        "\n",
        "#Retornando os 3 últimos registros da série\n",
        "print(serie.tail(3))\n",
        "print(serie[-3:])\n"
      ],
      "metadata": {
        "id": "eAM955u6sxb0"
      },
      "execution_count": null,
      "outputs": []
    },
    {
      "cell_type": "code",
      "source": [],
      "metadata": {
        "id": "8loN2z3JszKA"
      },
      "execution_count": null,
      "outputs": []
    },
    {
      "cell_type": "markdown",
      "source": [
        "**DATAFRAME**"
      ],
      "metadata": {
        "id": "J180ctums0-8"
      }
    },
    {
      "cell_type": "code",
      "source": [
        "import pandas as pd\n",
        "alunos = {'nome' : ['João', 'Maria', 'Carlos', 'Silvia', 'André', 'Juliana'],\n",
        "          'RA': [1000, 2000, 3000, 4000, 2700, 6000],\n",
        "          'sexo': ['M', 'F', 'M', 'F', 'M', 'F'],\n",
        "          'nota': [80.0, 90.0, 75.0, 100.0, 96.5, 98.5]\n",
        "         }\n",
        "\n",
        "df = pd.DataFrame(alunos)\n",
        "df #exibe todo o dataframe\n",
        "df.head() #exibe os 5 primeiros registros\n",
        "df.tail() #exibe os 5 últimos registros\n",
        "df.describe() # resumo estatístico de todos os campos numéricos\n"
      ],
      "metadata": {
        "id": "coAWiBiSs3Vu"
      },
      "execution_count": null,
      "outputs": []
    },
    {
      "cell_type": "code",
      "source": [
        "# Lendo dados de um arquivo CSV\n",
        "import pandas as pd\n",
        "notas = pd.read_csv('Notas.csv', encoding = 'utf-8', delimiter = ';')\n",
        "#notas.describe()\n",
        "# Imprimindo a quantidade de linhas e colunas\n",
        "#notas.shape\n",
        "\n",
        "# Exibindo as colunas \n",
        "#notas.columns\n",
        "\n",
        "# Exibindo a quantidade de valores não nulos \n",
        "#notas.count()\n",
        "\n",
        "import numpy as np\n",
        "\n",
        "\n",
        "#Incluido novas colunas\n",
        "#notas['Alternativa'] = np.NaN\n",
        "#notas['Final'] = 0\n",
        "#notas['Media'] = round((notas['D1'] + notas['D2'] + notas['D3'])/3, 2)\n",
        "\n"
      ],
      "metadata": {
        "colab": {
          "base_uri": "https://localhost:8080/",
          "height": 130
        },
        "id": "C79LuvWi1U69",
        "outputId": "ecad5cb9-0606-4f96-8eeb-4f3d2ab95400"
      },
      "execution_count": null,
      "outputs": [
        {
          "output_type": "error",
          "ename": "SyntaxError",
          "evalue": "ignored",
          "traceback": [
            "\u001b[0;36m  File \u001b[0;32m\"<ipython-input-20-d6064b04869e>\"\u001b[0;36m, line \u001b[0;32m18\u001b[0m\n\u001b[0;31m    notas['Media'] = round((notas['D1'] + np.nan_to_num(notas['D2'],nan.0) + notas['D3'])/3, 2)\u001b[0m\n\u001b[0m                                                                    ^\u001b[0m\n\u001b[0;31mSyntaxError\u001b[0m\u001b[0;31m:\u001b[0m invalid syntax. Perhaps you forgot a comma?\n"
          ]
        }
      ]
    },
    {
      "cell_type": "code",
      "source": [
        "import pandas as pd\n",
        "#importando e colunas específicas e renomeando as mesmas\n",
        "\n",
        "notas = pd.read_csv('Notas.csv', encoding = 'utf-8', delimiter = ';',\n",
        "                   usecols = [0, 1], names = ['NomeAluno', 'NotaD1'])\n",
        "notas\n",
        "\n",
        "notas = pd.read_csv('Notas.csv', encoding = 'utf-8', delimiter = ';',\n",
        "                   usecols = [0,1,3])\n",
        "notas\n",
        "\n",
        "notas = pd.read_csv('Notas.csv', encoding = 'utf-8', delimiter = ';',\n",
        "                   usecols = ['Aluno', 'D3'])\n",
        "notas\n"
      ],
      "metadata": {
        "colab": {
          "base_uri": "https://localhost:8080/",
          "height": 363
        },
        "id": "hWn-XBfa7DU2",
        "outputId": "cb54c5cc-6440-46ad-99d2-b8b7417c2545"
      },
      "execution_count": null,
      "outputs": [
        {
          "output_type": "execute_result",
          "data": {
            "text/plain": [
              "       Aluno    D3\n",
              "0      Maria  14.0\n",
              "1       João  20.0\n",
              "2       José  19.0\n",
              "3  Alexandre   NaN\n",
              "4      Paulo   7.0\n",
              "5     Carlos  11.0\n",
              "6      Pedro  18.0\n",
              "7      Joana   3.0\n",
              "8      Carla  17.0\n",
              "9      Joana   3.0"
            ],
            "text/html": [
              "\n",
              "  <div id=\"df-61fa74f8-dc2a-4735-908b-588c692c29ab\">\n",
              "    <div class=\"colab-df-container\">\n",
              "      <div>\n",
              "<style scoped>\n",
              "    .dataframe tbody tr th:only-of-type {\n",
              "        vertical-align: middle;\n",
              "    }\n",
              "\n",
              "    .dataframe tbody tr th {\n",
              "        vertical-align: top;\n",
              "    }\n",
              "\n",
              "    .dataframe thead th {\n",
              "        text-align: right;\n",
              "    }\n",
              "</style>\n",
              "<table border=\"1\" class=\"dataframe\">\n",
              "  <thead>\n",
              "    <tr style=\"text-align: right;\">\n",
              "      <th></th>\n",
              "      <th>Aluno</th>\n",
              "      <th>D3</th>\n",
              "    </tr>\n",
              "  </thead>\n",
              "  <tbody>\n",
              "    <tr>\n",
              "      <th>0</th>\n",
              "      <td>Maria</td>\n",
              "      <td>14.0</td>\n",
              "    </tr>\n",
              "    <tr>\n",
              "      <th>1</th>\n",
              "      <td>João</td>\n",
              "      <td>20.0</td>\n",
              "    </tr>\n",
              "    <tr>\n",
              "      <th>2</th>\n",
              "      <td>José</td>\n",
              "      <td>19.0</td>\n",
              "    </tr>\n",
              "    <tr>\n",
              "      <th>3</th>\n",
              "      <td>Alexandre</td>\n",
              "      <td>NaN</td>\n",
              "    </tr>\n",
              "    <tr>\n",
              "      <th>4</th>\n",
              "      <td>Paulo</td>\n",
              "      <td>7.0</td>\n",
              "    </tr>\n",
              "    <tr>\n",
              "      <th>5</th>\n",
              "      <td>Carlos</td>\n",
              "      <td>11.0</td>\n",
              "    </tr>\n",
              "    <tr>\n",
              "      <th>6</th>\n",
              "      <td>Pedro</td>\n",
              "      <td>18.0</td>\n",
              "    </tr>\n",
              "    <tr>\n",
              "      <th>7</th>\n",
              "      <td>Joana</td>\n",
              "      <td>3.0</td>\n",
              "    </tr>\n",
              "    <tr>\n",
              "      <th>8</th>\n",
              "      <td>Carla</td>\n",
              "      <td>17.0</td>\n",
              "    </tr>\n",
              "    <tr>\n",
              "      <th>9</th>\n",
              "      <td>Joana</td>\n",
              "      <td>3.0</td>\n",
              "    </tr>\n",
              "  </tbody>\n",
              "</table>\n",
              "</div>\n",
              "      <button class=\"colab-df-convert\" onclick=\"convertToInteractive('df-61fa74f8-dc2a-4735-908b-588c692c29ab')\"\n",
              "              title=\"Convert this dataframe to an interactive table.\"\n",
              "              style=\"display:none;\">\n",
              "        \n",
              "  <svg xmlns=\"http://www.w3.org/2000/svg\" height=\"24px\"viewBox=\"0 0 24 24\"\n",
              "       width=\"24px\">\n",
              "    <path d=\"M0 0h24v24H0V0z\" fill=\"none\"/>\n",
              "    <path d=\"M18.56 5.44l.94 2.06.94-2.06 2.06-.94-2.06-.94-.94-2.06-.94 2.06-2.06.94zm-11 1L8.5 8.5l.94-2.06 2.06-.94-2.06-.94L8.5 2.5l-.94 2.06-2.06.94zm10 10l.94 2.06.94-2.06 2.06-.94-2.06-.94-.94-2.06-.94 2.06-2.06.94z\"/><path d=\"M17.41 7.96l-1.37-1.37c-.4-.4-.92-.59-1.43-.59-.52 0-1.04.2-1.43.59L10.3 9.45l-7.72 7.72c-.78.78-.78 2.05 0 2.83L4 21.41c.39.39.9.59 1.41.59.51 0 1.02-.2 1.41-.59l7.78-7.78 2.81-2.81c.8-.78.8-2.07 0-2.86zM5.41 20L4 18.59l7.72-7.72 1.47 1.35L5.41 20z\"/>\n",
              "  </svg>\n",
              "      </button>\n",
              "      \n",
              "  <style>\n",
              "    .colab-df-container {\n",
              "      display:flex;\n",
              "      flex-wrap:wrap;\n",
              "      gap: 12px;\n",
              "    }\n",
              "\n",
              "    .colab-df-convert {\n",
              "      background-color: #E8F0FE;\n",
              "      border: none;\n",
              "      border-radius: 50%;\n",
              "      cursor: pointer;\n",
              "      display: none;\n",
              "      fill: #1967D2;\n",
              "      height: 32px;\n",
              "      padding: 0 0 0 0;\n",
              "      width: 32px;\n",
              "    }\n",
              "\n",
              "    .colab-df-convert:hover {\n",
              "      background-color: #E2EBFA;\n",
              "      box-shadow: 0px 1px 2px rgba(60, 64, 67, 0.3), 0px 1px 3px 1px rgba(60, 64, 67, 0.15);\n",
              "      fill: #174EA6;\n",
              "    }\n",
              "\n",
              "    [theme=dark] .colab-df-convert {\n",
              "      background-color: #3B4455;\n",
              "      fill: #D2E3FC;\n",
              "    }\n",
              "\n",
              "    [theme=dark] .colab-df-convert:hover {\n",
              "      background-color: #434B5C;\n",
              "      box-shadow: 0px 1px 3px 1px rgba(0, 0, 0, 0.15);\n",
              "      filter: drop-shadow(0px 1px 2px rgba(0, 0, 0, 0.3));\n",
              "      fill: #FFFFFF;\n",
              "    }\n",
              "  </style>\n",
              "\n",
              "      <script>\n",
              "        const buttonEl =\n",
              "          document.querySelector('#df-61fa74f8-dc2a-4735-908b-588c692c29ab button.colab-df-convert');\n",
              "        buttonEl.style.display =\n",
              "          google.colab.kernel.accessAllowed ? 'block' : 'none';\n",
              "\n",
              "        async function convertToInteractive(key) {\n",
              "          const element = document.querySelector('#df-61fa74f8-dc2a-4735-908b-588c692c29ab');\n",
              "          const dataTable =\n",
              "            await google.colab.kernel.invokeFunction('convertToInteractive',\n",
              "                                                     [key], {});\n",
              "          if (!dataTable) return;\n",
              "\n",
              "          const docLinkHtml = 'Like what you see? Visit the ' +\n",
              "            '<a target=\"_blank\" href=https://colab.research.google.com/notebooks/data_table.ipynb>data table notebook</a>'\n",
              "            + ' to learn more about interactive tables.';\n",
              "          element.innerHTML = '';\n",
              "          dataTable['output_type'] = 'display_data';\n",
              "          await google.colab.output.renderOutput(dataTable, element);\n",
              "          const docLink = document.createElement('div');\n",
              "          docLink.innerHTML = docLinkHtml;\n",
              "          element.appendChild(docLink);\n",
              "        }\n",
              "      </script>\n",
              "    </div>\n",
              "  </div>\n",
              "  "
            ]
          },
          "metadata": {},
          "execution_count": 21
        }
      ]
    },
    {
      "cell_type": "code",
      "source": [
        "import pandas as pd\n",
        "\n",
        "notas = pd.read_csv('Notas.csv', encoding = 'utf-8', delimiter = ';')\n",
        "\n",
        "# Verificando linhas duplicadas\n",
        "notas.duplicated()\n",
        "\n",
        "# Removendo linhas duplicadas\n",
        "notas.fillna(0, inplace=True)\n",
        "notas.drop_duplicates(inplace = True)\n",
        "notas['Media'] = round((notas['D1'] + notas['D2'] + notas['D3'])/3, 2)\n",
        "\n",
        "notas\n"
      ],
      "metadata": {
        "colab": {
          "base_uri": "https://localhost:8080/",
          "height": 332
        },
        "id": "RNdEJHQm7JdB",
        "outputId": "55a7439b-0779-4f24-baeb-7f6507ee4765"
      },
      "execution_count": null,
      "outputs": [
        {
          "output_type": "execute_result",
          "data": {
            "text/plain": [
              "       Aluno  D1    D2    D3  Media\n",
              "0      Maria  13  20.0  14.0  15.67\n",
              "1       João  16  17.0  20.0  17.67\n",
              "2       José  20  16.0  19.0  18.33\n",
              "3  Alexandre  18  16.0   0.0  11.33\n",
              "4      Paulo  19   9.0   7.0  11.67\n",
              "5     Carlos   9  10.0  11.0  10.00\n",
              "6      Pedro  11   0.0  18.0   9.67\n",
              "7      Joana  19  20.0   3.0  14.00\n",
              "8      Carla  17   0.0  17.0  11.33"
            ],
            "text/html": [
              "\n",
              "  <div id=\"df-d478f3b2-1fcb-46c5-898c-06eeafe6cb82\">\n",
              "    <div class=\"colab-df-container\">\n",
              "      <div>\n",
              "<style scoped>\n",
              "    .dataframe tbody tr th:only-of-type {\n",
              "        vertical-align: middle;\n",
              "    }\n",
              "\n",
              "    .dataframe tbody tr th {\n",
              "        vertical-align: top;\n",
              "    }\n",
              "\n",
              "    .dataframe thead th {\n",
              "        text-align: right;\n",
              "    }\n",
              "</style>\n",
              "<table border=\"1\" class=\"dataframe\">\n",
              "  <thead>\n",
              "    <tr style=\"text-align: right;\">\n",
              "      <th></th>\n",
              "      <th>Aluno</th>\n",
              "      <th>D1</th>\n",
              "      <th>D2</th>\n",
              "      <th>D3</th>\n",
              "      <th>Media</th>\n",
              "    </tr>\n",
              "  </thead>\n",
              "  <tbody>\n",
              "    <tr>\n",
              "      <th>0</th>\n",
              "      <td>Maria</td>\n",
              "      <td>13</td>\n",
              "      <td>20.0</td>\n",
              "      <td>14.0</td>\n",
              "      <td>15.67</td>\n",
              "    </tr>\n",
              "    <tr>\n",
              "      <th>1</th>\n",
              "      <td>João</td>\n",
              "      <td>16</td>\n",
              "      <td>17.0</td>\n",
              "      <td>20.0</td>\n",
              "      <td>17.67</td>\n",
              "    </tr>\n",
              "    <tr>\n",
              "      <th>2</th>\n",
              "      <td>José</td>\n",
              "      <td>20</td>\n",
              "      <td>16.0</td>\n",
              "      <td>19.0</td>\n",
              "      <td>18.33</td>\n",
              "    </tr>\n",
              "    <tr>\n",
              "      <th>3</th>\n",
              "      <td>Alexandre</td>\n",
              "      <td>18</td>\n",
              "      <td>16.0</td>\n",
              "      <td>0.0</td>\n",
              "      <td>11.33</td>\n",
              "    </tr>\n",
              "    <tr>\n",
              "      <th>4</th>\n",
              "      <td>Paulo</td>\n",
              "      <td>19</td>\n",
              "      <td>9.0</td>\n",
              "      <td>7.0</td>\n",
              "      <td>11.67</td>\n",
              "    </tr>\n",
              "    <tr>\n",
              "      <th>5</th>\n",
              "      <td>Carlos</td>\n",
              "      <td>9</td>\n",
              "      <td>10.0</td>\n",
              "      <td>11.0</td>\n",
              "      <td>10.00</td>\n",
              "    </tr>\n",
              "    <tr>\n",
              "      <th>6</th>\n",
              "      <td>Pedro</td>\n",
              "      <td>11</td>\n",
              "      <td>0.0</td>\n",
              "      <td>18.0</td>\n",
              "      <td>9.67</td>\n",
              "    </tr>\n",
              "    <tr>\n",
              "      <th>7</th>\n",
              "      <td>Joana</td>\n",
              "      <td>19</td>\n",
              "      <td>20.0</td>\n",
              "      <td>3.0</td>\n",
              "      <td>14.00</td>\n",
              "    </tr>\n",
              "    <tr>\n",
              "      <th>8</th>\n",
              "      <td>Carla</td>\n",
              "      <td>17</td>\n",
              "      <td>0.0</td>\n",
              "      <td>17.0</td>\n",
              "      <td>11.33</td>\n",
              "    </tr>\n",
              "  </tbody>\n",
              "</table>\n",
              "</div>\n",
              "      <button class=\"colab-df-convert\" onclick=\"convertToInteractive('df-d478f3b2-1fcb-46c5-898c-06eeafe6cb82')\"\n",
              "              title=\"Convert this dataframe to an interactive table.\"\n",
              "              style=\"display:none;\">\n",
              "        \n",
              "  <svg xmlns=\"http://www.w3.org/2000/svg\" height=\"24px\"viewBox=\"0 0 24 24\"\n",
              "       width=\"24px\">\n",
              "    <path d=\"M0 0h24v24H0V0z\" fill=\"none\"/>\n",
              "    <path d=\"M18.56 5.44l.94 2.06.94-2.06 2.06-.94-2.06-.94-.94-2.06-.94 2.06-2.06.94zm-11 1L8.5 8.5l.94-2.06 2.06-.94-2.06-.94L8.5 2.5l-.94 2.06-2.06.94zm10 10l.94 2.06.94-2.06 2.06-.94-2.06-.94-.94-2.06-.94 2.06-2.06.94z\"/><path d=\"M17.41 7.96l-1.37-1.37c-.4-.4-.92-.59-1.43-.59-.52 0-1.04.2-1.43.59L10.3 9.45l-7.72 7.72c-.78.78-.78 2.05 0 2.83L4 21.41c.39.39.9.59 1.41.59.51 0 1.02-.2 1.41-.59l7.78-7.78 2.81-2.81c.8-.78.8-2.07 0-2.86zM5.41 20L4 18.59l7.72-7.72 1.47 1.35L5.41 20z\"/>\n",
              "  </svg>\n",
              "      </button>\n",
              "      \n",
              "  <style>\n",
              "    .colab-df-container {\n",
              "      display:flex;\n",
              "      flex-wrap:wrap;\n",
              "      gap: 12px;\n",
              "    }\n",
              "\n",
              "    .colab-df-convert {\n",
              "      background-color: #E8F0FE;\n",
              "      border: none;\n",
              "      border-radius: 50%;\n",
              "      cursor: pointer;\n",
              "      display: none;\n",
              "      fill: #1967D2;\n",
              "      height: 32px;\n",
              "      padding: 0 0 0 0;\n",
              "      width: 32px;\n",
              "    }\n",
              "\n",
              "    .colab-df-convert:hover {\n",
              "      background-color: #E2EBFA;\n",
              "      box-shadow: 0px 1px 2px rgba(60, 64, 67, 0.3), 0px 1px 3px 1px rgba(60, 64, 67, 0.15);\n",
              "      fill: #174EA6;\n",
              "    }\n",
              "\n",
              "    [theme=dark] .colab-df-convert {\n",
              "      background-color: #3B4455;\n",
              "      fill: #D2E3FC;\n",
              "    }\n",
              "\n",
              "    [theme=dark] .colab-df-convert:hover {\n",
              "      background-color: #434B5C;\n",
              "      box-shadow: 0px 1px 3px 1px rgba(0, 0, 0, 0.15);\n",
              "      filter: drop-shadow(0px 1px 2px rgba(0, 0, 0, 0.3));\n",
              "      fill: #FFFFFF;\n",
              "    }\n",
              "  </style>\n",
              "\n",
              "      <script>\n",
              "        const buttonEl =\n",
              "          document.querySelector('#df-d478f3b2-1fcb-46c5-898c-06eeafe6cb82 button.colab-df-convert');\n",
              "        buttonEl.style.display =\n",
              "          google.colab.kernel.accessAllowed ? 'block' : 'none';\n",
              "\n",
              "        async function convertToInteractive(key) {\n",
              "          const element = document.querySelector('#df-d478f3b2-1fcb-46c5-898c-06eeafe6cb82');\n",
              "          const dataTable =\n",
              "            await google.colab.kernel.invokeFunction('convertToInteractive',\n",
              "                                                     [key], {});\n",
              "          if (!dataTable) return;\n",
              "\n",
              "          const docLinkHtml = 'Like what you see? Visit the ' +\n",
              "            '<a target=\"_blank\" href=https://colab.research.google.com/notebooks/data_table.ipynb>data table notebook</a>'\n",
              "            + ' to learn more about interactive tables.';\n",
              "          element.innerHTML = '';\n",
              "          dataTable['output_type'] = 'display_data';\n",
              "          await google.colab.output.renderOutput(dataTable, element);\n",
              "          const docLink = document.createElement('div');\n",
              "          docLink.innerHTML = docLinkHtml;\n",
              "          element.appendChild(docLink);\n",
              "        }\n",
              "      </script>\n",
              "    </div>\n",
              "  </div>\n",
              "  "
            ]
          },
          "metadata": {},
          "execution_count": 27
        }
      ]
    },
    {
      "cell_type": "code",
      "source": [
        "import pandas as pd\n",
        "alunos = {'nome' : ['João', 'Maria', 'Carlos', 'Silvia', 'André', 'Juliana', 'Alex'],\n",
        "          'RA': [1000, 2000, 3000, 4000, 2700, 6000, 1000],\n",
        "          'sexo': ['M', 'F', 'M', 'F', 'M', 'F', 'M'],\n",
        "          'nota': [80.0, 90.0, 75.0, 100.0, 96.5, 98.5, 90]\n",
        "         }\n",
        "\n",
        "df = pd.DataFrame(alunos)\n",
        "df\n",
        "\n",
        "# Verificando as linhas que possuem RA duplicado\n",
        "df.duplicated(subset = ['RA'])\n",
        "\n",
        "# Exibindo uma cópia do DataFrame as linhas que possuem RA duplicado\n",
        "df.drop_duplicates(subset = ['RA'])\n",
        "\n",
        "# Removendo as linhas que possuem RA duplicado\n",
        "df.drop_duplicates(subset = ['RA'], inplace = True)"
      ],
      "metadata": {
        "id": "ufeq-daO8EDZ"
      },
      "execution_count": null,
      "outputs": []
    },
    {
      "cell_type": "code",
      "source": [
        "import pandas as pd\n",
        "\n",
        "notas = pd.read_csv('Notas.csv', encoding = 'utf-8', delimiter = ';')\n",
        "\n",
        "#Exibindo somente as colunas Aluno e D3\n",
        "notas[['Aluno', 'D3']]\n",
        "\n",
        "#Exibindo os alunos que obtiveram nota D3 > 10\n",
        "notas[(notas.D3 > 10)]\n",
        "\n",
        "#Exibindo o nome dos alunos, e as notas D1 e D3, \n",
        "#para aqueles que obtiveram D3 maior que 10 e \n",
        "#D1 menor que 10\n",
        "notas[(notas['D3'] > 10) & (notas['D1'] < 10)][['Aluno', 'D3']]\n",
        "notas[(notas.D3 > 10) & (notas.D1 < 10)][['Aluno', 'D3']]\n",
        "\n",
        "# Utilizando o método query\n",
        "notas.query('D3 > 10 and D1 < 10')[['Aluno', 'D3']]"
      ],
      "metadata": {
        "id": "KhtFu50j8PIg"
      },
      "execution_count": null,
      "outputs": []
    },
    {
      "cell_type": "code",
      "source": [
        "import pandas as pd\n",
        "\n",
        "notas = pd.read_csv('Notas.csv', encoding = 'utf-8', delimiter = ';')\n",
        "\n",
        "# Verificando valores nulos\n",
        "notas[(notas.D3.isnull()) & (notas.D2.notnull())][['Aluno', 'D3', 'D2']]\n",
        "\n",
        "notas.query('D3.isnull() and not D2.isnull()')[['Aluno', 'D3', 'D2']]\n",
        "\n",
        "#Removendo linhas com valores nulos\n",
        "notas.dropna() \n",
        "notas.dropna(inplace = True)\n",
        "\n",
        "#Removendo linhas que possuem somente a coluna D3 nula\n",
        "notas.dropna(subset=['D3']) \n",
        "\n",
        "#Removendo colunas com valores nulos\n",
        "notas.dropna(axis = 1)\n",
        "notas.dropna(axis = 1, inplace = True)\n"
      ],
      "metadata": {
        "id": "kvr3Aivk-Gdq"
      },
      "execution_count": null,
      "outputs": []
    },
    {
      "cell_type": "code",
      "source": [
        "import pandas as pd\n",
        "\n",
        "df = pd.read_csv('Notas.csv', encoding = 'utf-8', delimiter = ';')\n",
        "\n",
        "# Recuperando as notas dos alunos Alexandre e Carlos\n",
        "df[df.Aluno.isin(['Alexandre', 'Carlos'])]\n",
        "\n",
        "# Alunos que começam com Car\n",
        "df[df.Aluno.str.startswith('Car')]\n",
        "\n",
        "# Alunos que terminam com a\n",
        "df[df.Aluno.str.endswith('a')]\n",
        "\n",
        "# Alunos que possuem Jo\n",
        "df[df.Aluno.str.contains('Jo')][['Aluno', 'D3']]\n",
        "\n",
        "# Alunos que possuem jo\n",
        "df[df.Aluno.str.lower().str.contains('jo')]\n",
        "\n",
        "# Atualizando a coluna com o nome de todos os alunos em maiúsculo\n",
        "df['Aluno'] = df.Aluno.str.upper()\n"
      ],
      "metadata": {
        "id": "ku-5ud02-WXG"
      },
      "execution_count": null,
      "outputs": []
    },
    {
      "cell_type": "code",
      "source": [
        "import pandas as pd\n",
        "\n",
        "notas = pd.read_csv('Notas_Curso.csv', encoding = 'utf-8', delimiter = ';')\n",
        "\n",
        "# Ordenando os dados pelo nome do Aluno\n",
        "notas.sort_values(by = 'Aluno')\n",
        "\n",
        "# Ordenando os dados pelo nome do Aluno em ordem decrescente \n",
        "notas.sort_values(by = 'Aluno', ascending = False)\n",
        "\n",
        "# Ordenando os dados pelo nome do Curso e do Aluno, em ordem crescente \n",
        "notas.sort_values(by = ['Curso','Aluno'])\n",
        "\n",
        "# Ordenando os dados pelo nome do Curso em ordem decrescente, e do Aluno, em ordem crescente \n",
        "notas.sort_values(by = ['Curso','Aluno'], ascending = [False, True])\n"
      ],
      "metadata": {
        "id": "Lu7iBvaVABCO"
      },
      "execution_count": null,
      "outputs": []
    },
    {
      "cell_type": "code",
      "source": [
        "import pandas as pd\n",
        "\n",
        "notas = pd.read_csv('Notas.csv', encoding = 'utf-8', delimiter = ';')\n",
        "\n",
        "#Media das notas D1\n",
        "print(notas['D1'].mean())\n",
        "\n",
        "#Maior nota da D2\n",
        "print(notas['D2'].max())\n",
        "\n",
        "#Menor nota da D3\n",
        "print(notas['D2'].min())"
      ],
      "metadata": {
        "id": "4527trSmAuBx"
      },
      "execution_count": null,
      "outputs": []
    },
    {
      "cell_type": "code",
      "source": [
        "import pandas as pd\n",
        "\n",
        "notas = pd.read_csv('Notas_Curso.csv', encoding = 'utf-8', delimiter = ';')\n",
        "\n",
        "# Quantidade de linhas por curso\n",
        "notas['Curso'].value_counts()\n",
        "\n",
        "# Quantidade de linhas por sexo\n",
        "notas['Sexo'].value_counts()\n",
        "\n",
        "# Quantidade de alunos por curso e sexo\n",
        "notas.groupby(['Curso', 'Sexo']) ['Aluno'].count()\n",
        "\n",
        "# Média das notas por curso e sexo\n",
        "notas.groupby(['Curso', 'Sexo']).mean().round(2)\n"
      ],
      "metadata": {
        "colab": {
          "base_uri": "https://localhost:8080/"
        },
        "id": "oxFqVMUOBCH0",
        "outputId": "48c424d9-d3aa-4ea3-bbb6-890f8edf5d8c"
      },
      "execution_count": null,
      "outputs": [
        {
          "output_type": "execute_result",
          "data": {
            "text/plain": [
              "Engenharia da Computação              7\n",
              "Sistemas de Informação                3\n",
              "Engenharia de Controle e Automação    3\n",
              "Name: Curso, dtype: int64"
            ]
          },
          "metadata": {},
          "execution_count": 31
        }
      ]
    },
    {
      "cell_type": "code",
      "source": [
        "import pandas as pd\n",
        "\n",
        "notas = pd.read_csv('Notas.csv', encoding = 'utf-8', delimiter = ';')\n",
        "\n",
        "# Excluindo as linhas que possuem valores nulos somente na coluna D2\n",
        "notasD2 = notas.dropna(subset = ['D2'])\n",
        "\n",
        "# Removendo as linhas duplicadas\n",
        "notasD2.drop_duplicates(inplace = True)\n",
        "\n",
        "# Gravando um DataFrame em um arquivo CSV\n",
        "# Com a opção index = False, não será criada uma coluna para os índices do DataFrame\n",
        "notasD2.to_csv('Copia_notas.csv', encoding = 'utf-8', index = False)\n"
      ],
      "metadata": {
        "id": "8A-WZ2EeBqSM"
      },
      "execution_count": null,
      "outputs": []
    },
    {
      "cell_type": "code",
      "source": [
        "import pandas as pd\n",
        "weather = pd.read_csv('https://github.com/alanjones2/dataviz/raw/master/londonweather.csv')\n"
      ],
      "metadata": {
        "id": "Xd1g8sdECXWF"
      },
      "execution_count": null,
      "outputs": []
    },
    {
      "cell_type": "code",
      "source": [
        "import pandas as pd\n",
        "\n",
        "notas = pd.read_csv('Notas_Curso.csv', encoding = 'utf-8', delimiter = ';')\n",
        "\n",
        "# Plotando gráfico de quantidade de alunos por Curso\n",
        "notas['Curso'].value_counts().plot()\n",
        "\n",
        "# Rotacionando o label\n",
        "notas['Curso'].value_counts().plot(rot = 90)\n",
        "\n",
        "notas['Curso'].value_counts().plot(title = 'Alunos por Curso', rot = 90).set(xlabel='Curso', ylabel='Qtd Alunos')\n",
        "notas['Curso'].value_counts().plot(kind = 'bar', title = 'Alunos por Curso', rot = 90).set(xlabel='Curso', ylabel='Qtd Alunos')\n"
      ],
      "metadata": {
        "colab": {
          "base_uri": "https://localhost:8080/",
          "height": 735
        },
        "id": "LaARge7uCYxd",
        "outputId": "8bf7d70d-53b9-4095-fa68-d54cffaf85cf"
      },
      "execution_count": null,
      "outputs": [
        {
          "output_type": "execute_result",
          "data": {
            "text/plain": [
              "[Text(0.5, 0, 'Curso'), Text(0, 0.5, 'Qtd Alunos')]"
            ]
          },
          "metadata": {},
          "execution_count": 33
        },
        {
          "output_type": "display_data",
          "data": {
            "text/plain": [
              "<Figure size 640x480 with 1 Axes>"
            ],
            "image/png": "[encoded data removed]"
          },
          "metadata": {}
        }
      ]
    },
    {
      "cell_type": "code",
      "source": [
        "import pandas as pd\n",
        "\n",
        "temp = pd.read_csv('Temperatura.csv', encoding = 'utf-8', delimiter = ';')\n",
        "\n",
        "temp.sample(5)\n",
        "\n",
        "temp.groupby('cidade').mean().plot(kind = 'bar')\n",
        "\n",
        "t = temp[(temp.cidade == 'Belo Horizonte') & (temp.data_coleta >= '21/01/2020') & (temp.data_coleta <= '25/01/2020')]\n",
        "\n",
        "t.plot(kind='line',x='data_coleta',y='temperatura', title = 'Temperatura de BH').set(xlabel='Dia', ylabel='Temperatura')\n"
      ],
      "metadata": {
        "colab": {
          "base_uri": "https://localhost:8080/",
          "height": 1000
        },
        "id": "OvXe7ln9Cudz",
        "outputId": "928ded93-06eb-471a-ffb6-3095dc12c584"
      },
      "execution_count": null,
      "outputs": [
        {
          "output_type": "stream",
          "name": "stderr",
          "text": [
            "<ipython-input-35-654a9cbb87fe>:7: FutureWarning: The default value of numeric_only in DataFrameGroupBy.mean is deprecated. In a future version, numeric_only will default to False. Either specify numeric_only or select only columns which should be valid for the function.\n",
            "  temp.groupby('cidade').mean().plot(kind = 'bar')\n"
          ]
        },
        {
          "output_type": "execute_result",
          "data": {
            "text/plain": [
              "[Text(0.5, 0, 'Dia'), Text(0, 0.5, 'Temperatura')]"
            ]
          },
          "metadata": {},
          "execution_count": 35
        },
        {
          "output_type": "display_data",
          "data": {
            "text/plain": [
              "<Figure size 640x480 with 1 Axes>"
            ],
            "image/png": "[encoded data removed]"
          },
          "metadata": {}
        },
        {
          "output_type": "display_data",
          "data": {
            "text/plain": [
              "<Figure size 640x480 with 1 Axes>"
            ],
            "image/png": "[encoded data removed]"
          },
          "metadata": {}
        }
      ]
    }
  ]
}