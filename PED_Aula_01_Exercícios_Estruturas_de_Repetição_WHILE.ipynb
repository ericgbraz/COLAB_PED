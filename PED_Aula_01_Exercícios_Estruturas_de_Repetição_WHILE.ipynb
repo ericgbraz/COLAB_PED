{
  "nbformat": 4,
  "nbformat_minor": 0,
  "metadata": {
    "colab": {
      "provenance": [],
      "authorship_tag": "ABX9TyPRFWPdWa877wR2j00din+L",
      "include_colab_link": true
    },
    "kernelspec": {
      "name": "python3",
      "display_name": "Python 3"
    },
    "language_info": {
      "name": "python"
    }
  },
  "cells": [
    {
      "cell_type": "markdown",
      "metadata": {
        "id": "view-in-github",
        "colab_type": "text"
      },
      "source": [
        "<a href=\"https://colab.research.google.com/github/ericgbraz/COLAB_PED/blob/main/PED_Aula_01_Exerc%C3%ADcios_Estruturas_de_Repeti%C3%A7%C3%A3o_WHILE.ipynb\" target=\"_parent\"><img src=\"https://colab.research.google.com/assets/colab-badge.svg\" alt=\"Open In Colab\"/></a>"
      ]
    },
    {
      "cell_type": "code",
      "source": [
        "#1\n",
        "matricula = 0\n",
        "while (matricula >=0):\n",
        "  matricula = int(input('Digite o número da Matrícula (ou um número negativo para sair)'))\n",
        "  if (matricula < 0):\n",
        "    break\n",
        "  else:  \n",
        "    a = 0\n",
        "    for i in range(1,4):\n",
        "      x = float(input('Digite a nota número '+str(i)+' '))\n",
        "      a = a + x  \n",
        "      b = i\n",
        "    media = a/b\n",
        "    if media >=0 and media <30:\n",
        "      print('Reprovado')\n",
        "    elif media >=30 and media <70:\n",
        "      print('Exame')  \n",
        "    else:\n",
        "      print('Aprovado')  "
      ],
      "metadata": {
        "colab": {
          "base_uri": "https://localhost:8080/"
        },
        "id": "pwpfZ-6iaxfz",
        "outputId": "9f70b41b-66ee-4982-d09c-93d9cb272c73"
      },
      "execution_count": null,
      "outputs": [
        {
          "name": "stdout",
          "output_type": "stream",
          "text": [
            "Digite o número da Matrícula -1\n"
          ]
        }
      ]
    },
    {
      "cell_type": "code",
      "source": [
        "#2\n",
        "idade = 0\n",
        "soma_idade = 0\n",
        "qtd_pessoas = 0\n",
        "qtd_acima_50 = 0\n",
        "qtd_abaixo_40 = 0\n",
        "\n",
        "while idade >= 0:\n",
        "    idade = int(input('Digite a idade (ou um número negativo para sair): '))\n",
        "    \n",
        "    if idade >= 0:\n",
        "        qtd_pessoas += 1\n",
        "        soma_idade += idade\n",
        "        \n",
        "        if idade > 50:\n",
        "            qtd_acima_50 += 1\n",
        "        \n",
        "        if idade < 40:\n",
        "            qtd_abaixo_40 += 1\n",
        "\n",
        "if qtd_pessoas > 0:\n",
        "    media_idade = soma_idade / qtd_pessoas\n",
        "    perc_abaixo_40 = (qtd_abaixo_40 / qtd_pessoas) * 100\n",
        "else:\n",
        "    media_idade = 0\n",
        "    perc_abaixo_40 = 0\n",
        "\n",
        "print(f'Pessoas com idade acima de 50 anos: {qtd_acima_50}')\n",
        "print(f'Média de idade: {media_idade:.2f}')\n",
        "print(f'Percentual de pessoas com idade abaixo de 40 anos: {perc_abaixo_40:.2f}%')"
      ],
      "metadata": {
        "id": "4pOp1_yadSYC"
      },
      "execution_count": null,
      "outputs": []
    },
    {
      "cell_type": "code",
      "source": [
        "salario = 0\n",
        "soma_salario = 0\n",
        "soma_filhos = 0\n",
        "qtd_pessoas = 0\n",
        "\n",
        "while salario >= 0:\n",
        "  salario = int(input('Digite seu salário: '))\n",
        "  \n",
        "  if salario >= 0: \n",
        "    filhos  = int(input('Digite o número de filhos: '))\n",
        "    soma_salario += salario\n",
        "    soma_filhos  += filhos\n",
        "    qtd_pessoas  +=1\n",
        "\n",
        "if qtd_pessoas > 0:\n",
        "  print('A média de salário da população é: ',round(soma_salario/qtd_pessoas,2))\n",
        "  print('A média de filhos da população é: ',round(soma_filhos/qtd_pessoas,2))\n"
      ],
      "metadata": {
        "colab": {
          "base_uri": "https://localhost:8080/"
        },
        "id": "4Ow52Hfoep3K",
        "outputId": "a7595653-c070-431a-aba0-5a7854c75cec"
      },
      "execution_count": null,
      "outputs": [
        {
          "output_type": "stream",
          "name": "stdout",
          "text": [
            "Digite seu salário: 10000\n",
            "Digite o número de filhos: 2\n",
            "Digite seu salário: 11000\n",
            "Digite o número de filhos: 1\n",
            "Digite seu salário: 1000\n",
            "Digite o número de filhos: 2\n",
            "Digite seu salário: 300\n",
            "Digite o número de filhos: 0\n",
            "Digite seu salário: -1\n",
            "A média de salário da população é:  5575.0\n",
            "A média de filhos da população é:  1.25\n"
          ]
        }
      ]
    },
    {
      "cell_type": "code",
      "source": [],
      "metadata": {
        "id": "tIbCmmzTgtlQ"
      },
      "execution_count": null,
      "outputs": []
    }
  ]
}