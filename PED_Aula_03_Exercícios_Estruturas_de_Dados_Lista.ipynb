{
  "nbformat": 4,
  "nbformat_minor": 0,
  "metadata": {
    "colab": {
      "provenance": [],
      "authorship_tag": "ABX9TyPTP0xiIZyhJKbzewkTQbRa",
      "include_colab_link": true
    },
    "kernelspec": {
      "name": "python3",
      "display_name": "Python 3"
    },
    "language_info": {
      "name": "python"
    }
  },
  "cells": [
    {
      "cell_type": "markdown",
      "metadata": {
        "id": "view-in-github",
        "colab_type": "text"
      },
      "source": [
        "<a href=\"https://colab.research.google.com/github/ericgbraz/COLAB_PED/blob/main/PED_Aula_03_Exerc%C3%ADcios_Estruturas_de_Dados_Lista.ipynb\" target=\"_parent\"><img src=\"https://colab.research.google.com/assets/colab-badge.svg\" alt=\"Open In Colab\"/></a>"
      ]
    },
    {
      "cell_type": "code",
      "execution_count": 23,
      "metadata": {
        "colab": {
          "base_uri": "https://localhost:8080/"
        },
        "id": "6kInZZtLrTj4",
        "outputId": "d6ff4ab1-2182-4a24-8400-4c007e89fb87"
      },
      "outputs": [
        {
          "output_type": "stream",
          "name": "stdout",
          "text": [
            "[18, 9, 11, 2, 16, 13, 7, 5, 17, 15]\n",
            "18\n",
            "[2, 5, 7, 9, 11, 13, 15, 16, 17, 18]\n",
            "[18, 17, 16, 15, 13, 11, 9, 7, 5, 2]\n",
            "Digite um valor 18\n",
            "A quantidade de \"18\" na lista [2, 5, 7, 9, 11, 13, 15, 16, 17, 18] é 1\n",
            "1\n"
          ]
        }
      ],
      "source": [
        "#1\n",
        "import random\n",
        "lista = random.sample(range(1, 20), 10)\n",
        "print(lista)\n",
        "print(max(lista))\n",
        "lista.sort()\n",
        "print(lista)\n",
        "print(lista[::-1])\n",
        "\n",
        "a = int(input('Digite um valor '))\n",
        "if a not in lista:\n",
        "  print('O Valor informado não está na lista')  \n",
        "else:\n",
        "  print(f'A quantidade de \"{a}\" na lista {lista} é',str(lista.count(a)))"
      ]
    },
    {
      "cell_type": "code",
      "source": [
        "#2\n",
        "import random\n",
        "lista1 = random.sample(range(1, 100), 10)\n",
        "lista2 = random.sample(range(1, 100), 10)\n",
        "lista1.sort()\n",
        "lista2.sort()\n",
        "print(lista1)\n",
        "print(lista2)\n",
        "lista_soma = []\n",
        "lista_mult = []\n",
        "for i in range(0,len(lista1)):\n",
        "  lista_soma.insert(i,lista1[i]+lista2[i])\n",
        "  lista_mult.insert(i,lista1[i]*lista2[i])\n",
        "print(lista_soma)  \n",
        "print(lista_mult)"
      ],
      "metadata": {
        "colab": {
          "base_uri": "https://localhost:8080/"
        },
        "id": "Nm3vhV4ovMPJ",
        "outputId": "9fd1b57a-9aa3-48c5-e8af-4e8ed558da5f"
      },
      "execution_count": 38,
      "outputs": [
        {
          "output_type": "stream",
          "name": "stdout",
          "text": [
            "[27, 28, 31, 36, 40, 44, 51, 66, 72, 86]\n",
            "[2, 8, 11, 22, 25, 30, 38, 44, 81, 88]\n",
            "[29, 36, 42, 58, 65, 74, 89, 110, 153, 174]\n",
            "[54, 224, 341, 792, 1000, 1320, 1938, 2904, 5832, 7568]\n"
          ]
        }
      ]
    },
    {
      "cell_type": "code",
      "source": [
        "#3\n",
        "lista = [10, 20, 30, 30, 30, 40, 10, 20]\n",
        "while 30 in lista:\n",
        "  lista.remove(30)\n",
        "print(lista)  \n"
      ],
      "metadata": {
        "colab": {
          "base_uri": "https://localhost:8080/"
        },
        "id": "Z2eg09M8yalR",
        "outputId": "b023ca55-212c-4bdf-c2c9-75fe722f2a1a"
      },
      "execution_count": 42,
      "outputs": [
        {
          "output_type": "stream",
          "name": "stdout",
          "text": [
            "[10, 20, 40, 10, 20]\n"
          ]
        }
      ]
    },
    {
      "cell_type": "code",
      "source": [
        "#4\n",
        "import random\n",
        "lista = random.sample(range(1, 100), 10)\n",
        "lista.sort()\n",
        "print(lista)\n",
        "lista_par = []\n",
        "lista_impar = []\n",
        "for i in range(0,len(lista)):\n",
        "  if lista[i]%2 == 0:\n",
        "    lista_par.insert(i,lista[i])\n",
        "  else:\n",
        "    lista_impar.insert(i,lista[i])  \n",
        "print(lista_par)    \n",
        "print(lista_impar)    \n"
      ],
      "metadata": {
        "colab": {
          "base_uri": "https://localhost:8080/"
        },
        "id": "lm8CLeEfzuEU",
        "outputId": "4aaea998-e973-46af-f9d8-e3b13a7ec6ac"
      },
      "execution_count": 52,
      "outputs": [
        {
          "output_type": "stream",
          "name": "stdout",
          "text": [
            "[6, 7, 8, 12, 15, 18, 44, 45, 66, 80]\n",
            "[6, 8, 12, 18, 44, 66, 80]\n",
            "[7, 15, 45]\n"
          ]
        }
      ]
    },
    {
      "cell_type": "code",
      "source": [
        "#5\n",
        "data = str(input(\"Digite uma data, ex:(22/02/2022): \")) \n",
        "meses = ['janeiro', 'fevereiro', 'março', 'abril', 'maio', 'junho', 'julho', 'agosto', 'setembro', 'outubro', 'novembro', 'dezembro'] \n",
        "dia,mes,ano = data.split(\"/\") \n",
        "print(dia, \"de\", meses[int(mes) - 1], \"de\", ano)\n"
      ],
      "metadata": {
        "colab": {
          "base_uri": "https://localhost:8080/"
        },
        "id": "SJPlKH4_1sGP",
        "outputId": "fe156a81-d32b-4cf9-b6db-a282608ef4dd"
      },
      "execution_count": 50,
      "outputs": [
        {
          "output_type": "stream",
          "name": "stdout",
          "text": [
            "Digite uma data, ex:(22/02/2022): 26/09/1993\n",
            "26 de setembro de 1993\n"
          ]
        }
      ]
    },
    {
      "cell_type": "code",
      "source": [
        "#6\n",
        "import random\n",
        "lista = random.sample(range(1, 60), 6)\n",
        "num_extenso = ['primeiro', 'segundo', 'terceiro', 'quarto', 'quinto', 'sexto']\n",
        "numeros_mega = []\n",
        "for i in range(0,6):\n",
        "  numeros_mega.insert(i, input(\"Digite o \"+str(num_extenso[i])+\" número sorteados 4\"))\n",
        "print(numeros_mega)\n",
        "\n",
        "for lista in numeros_mega:\n",
        "  \n"
      ],
      "metadata": {
        "colab": {
          "base_uri": "https://localhost:8080/"
        },
        "id": "sNxxlbHo7osC",
        "outputId": "33b4db6f-aa8b-4b00-f293-414a9911271f"
      },
      "execution_count": 63,
      "outputs": [
        {
          "output_type": "stream",
          "name": "stdout",
          "text": [
            "Digite o primeiro número sorteados 1\n",
            "Digite o segundo número sorteados 2\n",
            "Digite o terceiro número sorteados 3\n",
            "Digite o quarto número sorteados 4\n",
            "Digite o quinto número sorteados 5\n",
            "Digite o sexto número sorteados 6\n",
            "['1', '2', '3', '4', '5', '6']\n",
            "<class 'list'>\n"
          ]
        }
      ]
    }
  ]
}