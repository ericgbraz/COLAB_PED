{
  "nbformat": 4,
  "nbformat_minor": 0,
  "metadata": {
    "colab": {
      "provenance": [],
      "authorship_tag": "ABX9TyMqg5v0hFlviHUnlBw3mSO8",
      "include_colab_link": true
    },
    "kernelspec": {
      "name": "python3",
      "display_name": "Python 3"
    },
    "language_info": {
      "name": "python"
    }
  },
  "cells": [
    {
      "cell_type": "markdown",
      "metadata": {
        "id": "view-in-github",
        "colab_type": "text"
      },
      "source": [
        "<a href=\"https://colab.research.google.com/github/ericgbraz/COLAB_PED/blob/main/PED_Aula_02_Exerc%C3%ADcios_Manipula%C3%A7%C3%A3o_de_Strings.ipynb\" target=\"_parent\"><img src=\"https://colab.research.google.com/assets/colab-badge.svg\" alt=\"Open In Colab\"/></a>"
      ]
    },
    {
      "cell_type": "code",
      "execution_count": null,
      "metadata": {
        "colab": {
          "base_uri": "https://localhost:8080/"
        },
        "id": "WKbzrwy231K6",
        "outputId": "b2232404-33e1-4e28-9334-8b3e05e32b6b"
      },
      "outputs": [
        {
          "output_type": "stream",
          "name": "stdout",
          "text": [
            "Digite uma Frase Palmeiras é o segundo melhor time do mundo\n",
            "Palmeiras é o segundo melhor time do mundo\n",
            "Substitua duas palavras da frase acima por outra dividida por / segundo/primeiro\n",
            "Palmeiras é o primeiro melhor time do mundo\n"
          ]
        }
      ],
      "source": [
        "#1\n",
        "frase = input('Digite uma Frase ')\n",
        "\n",
        "print('O tamanho (em caracteres) é ',len(frase))\n",
        "print('A frase em maiúscula é ',frase.upper())\n",
        "print('A frase em maiúscula é ',frase.lower())\n",
        "for c in frase:\n",
        "  print(c)\n",
        "\n",
        "a,b = input('Digite uma posição inicial e uma posição final separado por \"/\"').split('/')\n",
        "print(frase[int(a):int(b)])\n",
        "print(frase[::-1])\n",
        "\n",
        "print(frase)\n",
        "palavra1, palavra2 = input('Substitua duas palavras da frase acima por outra dividida por / ').split('/')\n",
        "frase_nova = (frase.replace(palavra1,palavra2))\n",
        "print(frase_nova)\n",
        "\n",
        "\n"
      ]
    },
    {
      "cell_type": "code",
      "source": [
        "#2\n",
        "frase = input('Digite uma Frase ')\n",
        "palavra = input('Digite uma palavra ')\n",
        "\n",
        "print(f'Quantidade de ocorrências da palavra \"{palavra}\" na frase: ' + str(frase.upper().count(palavra.upper())))"
      ],
      "metadata": {
        "colab": {
          "base_uri": "https://localhost:8080/"
        },
        "id": "0p6cZcY79MOg",
        "outputId": "5175a012-0581-42ce-85b0-fd4131818fac"
      },
      "execution_count": null,
      "outputs": [
        {
          "output_type": "stream",
          "name": "stdout",
          "text": [
            "Digite uma Frase uma UMA uma\n",
            "Digite uma palavra uma\n",
            "Quantidade de ocorrências da palavra \"uma\" na frase: 3\n"
          ]
        }
      ]
    },
    {
      "cell_type": "code",
      "source": [
        "#3\n",
        "frase = input('Digite uma Frase ')\n",
        "x = input('Digite um caractere para a divisão da frase ')\n",
        "\n",
        "print(frase.split(x))"
      ],
      "metadata": {
        "colab": {
          "base_uri": "https://localhost:8080/"
        },
        "id": "XmNWLZJY-ioL",
        "outputId": "8ba1cbfc-ca81-4341-baee-ef693775dc63"
      },
      "execution_count": null,
      "outputs": [
        {
          "output_type": "stream",
          "name": "stdout",
          "text": [
            "Digite uma Frase palmeiras é campeão do mundo\n",
            "Digite um caractere para a divisão da frase  \n",
            "['palmeiras', 'é', 'campeão', 'do', 'mundo']\n"
          ]
        }
      ]
    },
    {
      "cell_type": "code",
      "source": [
        "#4\n",
        "palavra = input('Digite uma palavra ')\n",
        "x = input('Digite um caractere para a divisão da palavra ')\n",
        "\n",
        "print(x.join(palavra))"
      ],
      "metadata": {
        "colab": {
          "base_uri": "https://localhost:8080/"
        },
        "id": "yeu04BnO_AEa",
        "outputId": "8a10ffdf-8b0a-4d62-fbe4-ff13e85f3ce4"
      },
      "execution_count": null,
      "outputs": [
        {
          "output_type": "stream",
          "name": "stdout",
          "text": [
            "Digite uma palavra palmeiras\n",
            "Digite um caractere para a divisão da palavra ' \n",
            "p' a' l' m' e' i' r' a' s\n"
          ]
        }
      ]
    },
    {
      "cell_type": "code",
      "source": [
        "#4\n",
        "palavra = input('Digite uma palavra ')\n",
        "#palavra2 = palavra[::-1]\n",
        "if palavra == palavra[::-1]:\n",
        "  print(f'{palavra} é um Palíndromo')\n",
        "else:\n",
        "  print(f'{palavra} não é um Palíndromo')\n"
      ],
      "metadata": {
        "colab": {
          "base_uri": "https://localhost:8080/"
        },
        "id": "HYO2PGNB_qp9",
        "outputId": "4e88ad13-fbb2-4770-8c6f-2e022ee994b1"
      },
      "execution_count": 1,
      "outputs": [
        {
          "output_type": "stream",
          "name": "stdout",
          "text": [
            "Digite uma palavra oso\n",
            "oso é um Palíndromo\n"
          ]
        }
      ]
    }
  ]
}