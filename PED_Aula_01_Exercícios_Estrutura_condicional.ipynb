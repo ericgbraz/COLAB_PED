{
  "nbformat": 4,
  "nbformat_minor": 0,
  "metadata": {
    "colab": {
      "provenance": [],
      "authorship_tag": "ABX9TyPc3IWvERuqazp3jsome0dq",
      "include_colab_link": true
    },
    "kernelspec": {
      "name": "python3",
      "display_name": "Python 3"
    },
    "language_info": {
      "name": "python"
    }
  },
  "cells": [
    {
      "cell_type": "markdown",
      "metadata": {
        "id": "view-in-github",
        "colab_type": "text"
      },
      "source": [
        "<a href=\"https://colab.research.google.com/github/ericgbraz/COLAB_PED/blob/main/PED_Aula_01_Exerc%C3%ADcios_Estrutura_condicional.ipynb\" target=\"_parent\"><img src=\"https://colab.research.google.com/assets/colab-badge.svg\" alt=\"Open In Colab\"/></a>"
      ]
    },
    {
      "cell_type": "code",
      "execution_count": 7,
      "metadata": {
        "id": "OeFUKuENI9a-",
        "colab": {
          "base_uri": "https://localhost:8080/"
        },
        "outputId": "26dceaba-8ca7-4fbd-b30c-ba7f91781c09"
      },
      "outputs": [
        {
          "name": "stdout",
          "output_type": "stream",
          "text": [
            "Digite um número: 3\n",
            "Digite um número: 1\n"
          ]
        }
      ],
      "source": [
        "#1\n",
        "a = int(input('Digite um número: '))\n",
        "b = int(input('Digite um número: '))\n",
        "if a == b:\n",
        "  print('Os número são iguais')\n",
        "else:\n",
        "  if a>b:\n",
        "    menor, maior = b,a\n",
        "  elif a<b:\n",
        "    menor, maior = a,b\n",
        "  print(f'O maior número é {maior} e o menor é {menor}')    "
      ]
    },
    {
      "cell_type": "code",
      "source": [
        "#2\n",
        "a = int(input('Qual a primeira nota: '))\n",
        "b = int(input('Qual a segunda nota: '))\n",
        "c = (a+b)/2\n",
        "\n",
        "if c >= 7:\n",
        "  print('Aprovado')\n",
        "else:\n",
        "  print('Reprovado')\n"
      ],
      "metadata": {
        "id": "UQ7e50xmLKsp"
      },
      "execution_count": null,
      "outputs": []
    },
    {
      "cell_type": "code",
      "source": [
        "#3\n",
        "a = 0\n",
        "for i in range(1,4):\n",
        "  x = float(input('Digite a nota número '+str(i)+' '))\n",
        "  a = a + x  \n",
        "  b = i\n",
        "media = a/b\n",
        "if media >=0 and media <3:\n",
        "  print('Reprovado')\n",
        "elif media >=3 and media <7:\n",
        "  print('Exame')  \n",
        "else:\n",
        "  print('Aprovado')   "
      ],
      "metadata": {
        "id": "r7sQlAKQLcbV"
      },
      "execution_count": null,
      "outputs": []
    },
    {
      "cell_type": "code",
      "source": [
        "x = float(input('Digite o valor de X: '))\n",
        "y = float(input('Digite o valor de Y: '))\n",
        "z = float(input('Digite o valor de Z: '))\n",
        "\n",
        "if x < y + z and y < x + z and z < x + y:\n",
        "    print('Os valores X, Y e Z formam um triângulo.')\n",
        "else:\n",
        "    print('Os valores X, Y e Z não formam um triângulo.')"
      ],
      "metadata": {
        "id": "EJkQsxmFNrRu"
      },
      "execution_count": null,
      "outputs": []
    },
    {
      "cell_type": "code",
      "source": [
        "#5\n",
        "sexo = input(\"Digite o sexo da pessoa (M/F): \")\n",
        "altura = float(input('Qual a sua altura (em metros)? '))\n",
        "if sexo.upper() == 'M':\n",
        "  p = (72.7*altura)-58\n",
        "  print(f'Para a altura {altura} de um homem o peso ideal é {round(p,2)} kg')\n",
        "elif sexo.upper() == 'F':\n",
        "  p = (62.1*altura)-44.7\n",
        "  print(f'Para a altura {altura} de uma mulher o peso ideal é {round(p,2)} kg') "
      ],
      "metadata": {
        "colab": {
          "base_uri": "https://localhost:8080/"
        },
        "id": "klpWCWVwN2g5",
        "outputId": "1008d183-10da-4dc4-f2d7-b7b9f2912249"
      },
      "execution_count": null,
      "outputs": [
        {
          "output_type": "stream",
          "name": "stdout",
          "text": [
            "Digite o sexo da pessoa (M/F): a\n",
            "Qual a sua altura (em metros)? 1.56\n",
            "Digite um sexo válido\n"
          ]
        }
      ]
    },
    {
      "cell_type": "code",
      "source": [
        "#6\n",
        "peso = int(input('Qual o peso? '))\n",
        "altura = float(input('Qual a altura? '))\n",
        "if peso <= 0:\n",
        "  print('Peso inválido')\n",
        "else:\n",
        "  imc = peso/(altura**2)\n",
        "  if imc < 20:\n",
        "    print('Abaixo do peso')\n",
        "  elif imc >= 20 and imc <25:\n",
        "    print('Peso Normal')\n",
        "  elif imc >= 25 and imc <30:\n",
        "    print('Sobre Peso')  \n",
        "  elif imc >= 30 and imc <40:\n",
        "    print('Obeso')\n",
        "  elif imc >= 40:\n",
        "    print('Obeso Mórbido')"
      ],
      "metadata": {
        "colab": {
          "base_uri": "https://localhost:8080/"
        },
        "id": "zNDRfduYPdi7",
        "outputId": "3ed2d203-8e5f-4029-df1f-fab67ded745d"
      },
      "execution_count": null,
      "outputs": [
        {
          "output_type": "stream",
          "name": "stdout",
          "text": [
            "Qual o peso: 75\n",
            "Qual a altura: 1.73\n",
            "Sobre Peso\n"
          ]
        }
      ]
    },
    {
      "cell_type": "code",
      "source": [
        "#7\n",
        "salario = float(input('Qual seu salário? '))\n",
        "if salario < 10000:\n",
        "  print('Seu novo salario é de ',salario*1.3)\n",
        "else:\n",
        "  print('Você não receberá aumento')\n"
      ],
      "metadata": {
        "colab": {
          "base_uri": "https://localhost:8080/"
        },
        "id": "JkJX5ZfcQ9h4",
        "outputId": "b806960c-b693-4f4e-eece-6ffe6000109c"
      },
      "execution_count": null,
      "outputs": [
        {
          "output_type": "stream",
          "name": "stdout",
          "text": [
            "Qual seu salário? 11000\n",
            "Você não receberá aumento\n"
          ]
        }
      ]
    },
    {
      "cell_type": "code",
      "source": [
        "#8\n",
        "idade = int(input('Qual sua idade? '))\n",
        "if idade <= 7:\n",
        "  print('Sua categoria é Infantil')\n",
        "elif idade >= 8 and idade <=10:\n",
        "  print('Sua categoria é Juvenil')\n",
        "elif idade >= 11 and idade <=15:\n",
        "  print('Sua categoria é Adolescente')\n",
        "elif idade >= 16 and idade <=30:\n",
        "  print('Sua categoria é Adulto')\n",
        "elif idade > 30:\n",
        "  print('Sua categoria é Senior')"
      ],
      "metadata": {
        "colab": {
          "base_uri": "https://localhost:8080/"
        },
        "id": "iCe2TDUvRnOr",
        "outputId": "55ec923e-434c-4dac-b48d-d11bf34f8c4c"
      },
      "execution_count": null,
      "outputs": [
        {
          "output_type": "stream",
          "name": "stdout",
          "text": [
            "Qual sua idade? 13\n",
            "Sua categoria é Adolescente\n"
          ]
        }
      ]
    },
    {
      "cell_type": "code",
      "source": [
        "#9\n",
        "idade = int(input('Qual sua idade? '))\n",
        "if idade < 16:\n",
        "  print('Não Eleitor')\n",
        "elif idade >= 18 and idade < 65:\n",
        "  print('Eleitor Obrigatório')\n",
        "elif (idade >=16 and idade < 18) or idade >= 65:\n",
        "  print('Eleitor Facultativo')"
      ],
      "metadata": {
        "colab": {
          "base_uri": "https://localhost:8080/"
        },
        "id": "cae-S17CSjto",
        "outputId": "4ff43f97-5b1e-42ee-ed3c-8a17b0b341d5"
      },
      "execution_count": null,
      "outputs": [
        {
          "output_type": "stream",
          "name": "stdout",
          "text": [
            "Qual sua idade? 15\n",
            "Não Eleitor\n"
          ]
        }
      ]
    },
    {
      "cell_type": "code",
      "source": [
        "#10\n",
        "x = int(input('Digite um número de 1 a 7 '))\n",
        "if x == 1:\n",
        "  print('Domingo')\n",
        "elif x == 2:\n",
        "  print('Segunda')\n",
        "elif x == 3:\n",
        "  print('Terça')\n",
        "elif x == 4:\n",
        "  print('Quarta')\n",
        "elif x == 5:\n",
        "  print('Quinta')\n",
        "elif x == 6:\n",
        "  print('Sexta')\n",
        "elif x == 7:\n",
        "  print('Sábado')\n",
        "else:\n",
        "  print('Não existe um dia da semana para o número informado')\n"
      ],
      "metadata": {
        "colab": {
          "base_uri": "https://localhost:8080/"
        },
        "id": "_OU9aNkMTUlA",
        "outputId": "0068c3ea-01a2-4814-bb6f-72c3181bf2df"
      },
      "execution_count": null,
      "outputs": [
        {
          "output_type": "stream",
          "name": "stdout",
          "text": [
            "Digite um número de 1 a 7 53\n",
            "Não existe um dia da semana para o número informado\n"
          ]
        }
      ]
    },
    {
      "cell_type": "code",
      "source": [
        "#11\n",
        "x = int(input('Digite um número de 1 a 12 '))\n",
        "if x == 1:\n",
        "  print('Janeiro')\n",
        "elif x == 2:\n",
        "  print('Fevereiro')\n",
        "elif x == 3:\n",
        "  print('Março')\n",
        "elif x == 4:\n",
        "  print('Abril')\n",
        "elif x == 5:\n",
        "  print('Maio')\n",
        "elif x == 6:\n",
        "  print('Junho')\n",
        "elif x == 7:\n",
        "  print('Julho')\n",
        "elif x == 8:\n",
        "  print('Agosto')\n",
        "elif x == 9:\n",
        "  print('Setembro')\n",
        "elif x == 10:\n",
        "  print('Outubro')\n",
        "elif x == 11:\n",
        "  print('Novembro')\n",
        "elif x == 12:\n",
        "  print('Dezembro')          \n",
        "else:\n",
        "  print('Não existe um mês válido para o número informado')"
      ],
      "metadata": {
        "colab": {
          "base_uri": "https://localhost:8080/"
        },
        "id": "rf32U8-4UGeu",
        "outputId": "f173e6a0-755c-48d7-f1e7-02f39303e9b5"
      },
      "execution_count": null,
      "outputs": [
        {
          "output_type": "stream",
          "name": "stdout",
          "text": [
            "Digite um número de 1 a 12 123\n",
            "Não existe um mês válido para o número informado\n"
          ]
        }
      ]
    },
    {
      "cell_type": "code",
      "source": [
        "#12\n",
        "a = float(input('Digite o primeiro número '))\n",
        "b = float(input('Digite o segundo número '))\n",
        "\n",
        "print(\"Selecione a operação desejada:\")\n",
        "print(\"1 - Somar\")\n",
        "print(\"2 - Subtrair\")\n",
        "print(\"3 - Multiplicar\")\n",
        "print(\"4 - Dividir\")\n",
        "print(\"5 - Sair\")\n",
        "\n",
        "opcao = int(input(\"Digite sua opção (1/2/3/4/5): \"))\n",
        "\n",
        "if opcao == 1:\n",
        "  print('O resultado do é ',a+b)\n",
        "elif opcao == 2:\n",
        "  print('O resultado do é ',a-b)\n",
        "elif opcao == 3:\n",
        "  print('O resultado do é ',a*b)\n",
        "elif opcao == 4:\n",
        "  if b != 0:\n",
        "    print('O resultado do é ',a/b)\n",
        "  else:\n",
        "    print('Não é possível divisões por 0')\n",
        "elif opcao == 5:\n",
        "  print('Programa finalizado')\n"
      ],
      "metadata": {
        "colab": {
          "base_uri": "https://localhost:8080/"
        },
        "id": "z2JpRvqWUmdr",
        "outputId": "44252bec-e6fb-4599-b5bf-0febbf6c0bb0"
      },
      "execution_count": null,
      "outputs": [
        {
          "output_type": "stream",
          "name": "stdout",
          "text": [
            "Digite o primeiro número 5\n",
            "Digite o segundo número 0\n",
            "Selecione a operação desejada:\n",
            "1 - Somar\n",
            "2 - Subtrair\n",
            "3 - Multiplicar\n",
            "4 - Dividir\n",
            "5 - Sair\n",
            "Digite sua opção (1/2/3/4/5): 4\n",
            "Não é possível divisões por 0\n"
          ]
        }
      ]
    },
    {
      "cell_type": "code",
      "source": [
        "#13\n",
        "import math\n",
        "\n",
        "a = float(input('Digite o coeficiente a da equação: '))\n",
        "b = float(input('Digite o coeficiente b da equação: '))\n",
        "c = float(input('Digite o coeficiente c da equação: '))\n",
        "\n",
        "delta = b**2 - 4*a*c\n",
        "\n",
        "if delta < 0:\n",
        "    print('A equação não possui raízes reais.')\n",
        "elif delta == 0:\n",
        "    x = -b / (2*a)\n",
        "    print('A equação possui uma única raiz real: x =', x)\n",
        "else:\n",
        "    x1 = (-b + math.sqrt(delta)) / (2*a)\n",
        "    x2 = (-b - math.sqrt(delta)) / (2*a)\n",
        "    print('A equação possui duas raízes reais:')\n",
        "    print('x1 =', x1)\n",
        "    print('x2 =', x2)\n"
      ],
      "metadata": {
        "id": "j7QK7LTRVPhw"
      },
      "execution_count": null,
      "outputs": []
    }
  ]
}