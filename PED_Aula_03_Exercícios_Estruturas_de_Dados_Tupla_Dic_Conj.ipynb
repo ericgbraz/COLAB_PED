{
  "nbformat": 4,
  "nbformat_minor": 0,
  "metadata": {
    "colab": {
      "provenance": [],
      "authorship_tag": "ABX9TyOCF/kFXYs2XCCrsY/9ZpnT",
      "include_colab_link": true
    },
    "kernelspec": {
      "name": "python3",
      "display_name": "Python 3"
    },
    "language_info": {
      "name": "python"
    }
  },
  "cells": [
    {
      "cell_type": "markdown",
      "metadata": {
        "id": "view-in-github",
        "colab_type": "text"
      },
      "source": [
        "<a href=\"https://colab.research.google.com/github/ericgbraz/COLAB_PED/blob/main/PED_Aula_03_Exerc%C3%ADcios_Estruturas_de_Dados_Tupla_Dic_Conj.ipynb\" target=\"_parent\"><img src=\"https://colab.research.google.com/assets/colab-badge.svg\" alt=\"Open In Colab\"/></a>"
      ]
    },
    {
      "cell_type": "code",
      "execution_count": 3,
      "metadata": {
        "colab": {
          "base_uri": "https://localhost:8080/"
        },
        "id": "lh-Ev5PVYn7C",
        "outputId": "3cdd481a-29f6-42f0-b335-7320d35990db"
      },
      "outputs": [
        {
          "output_type": "stream",
          "name": "stdout",
          "text": [
            "Digite um valor: 1\n",
            "O valor 1 aparece 3 vezes na tupla.\n"
          ]
        }
      ],
      "source": [
        "#1\n",
        "tupla = (0, 1, 2, 3, 1, 5, 1, 7, 8, 9)\n",
        "valor = int(input('Digite um valor: '))\n",
        "\n",
        "if valor in tupla:\n",
        "    quantidade = tupla.count(valor)\n",
        "    print(f'O valor {valor} aparece {quantidade} vezes na tupla.')\n",
        "else:\n",
        "    print(f'O valor {valor} não foi encontrado na tupla.')\n"
      ]
    },
    {
      "cell_type": "code",
      "source": [
        "#2\n",
        "notas = {}\n",
        "\n",
        "for i in range(5):\n",
        "    matricula = input(\"Digite a matrícula do aluno: \")\n",
        "    nota = float(input(\"Digite a nota do aluno: \"))\n",
        "    notas[matricula] = nota\n",
        "\n",
        "media = sum(notas.values()) / len(notas)\n",
        "print(f\"A média das notas é {media:.2f}\")\n",
        "\n",
        "maior_nota = max(notas.values())\n",
        "alunos_maior_nota = [matricula for matricula, nota in notas.items() if nota == maior_nota]\n",
        "print(f\"O(s) aluno(s) com a maior nota ({maior_nota:.2f}) é(são): {', '.join(alunos_maior_nota)}\")\n",
        "\n",
        "menor_nota = min(notas.values())\n",
        "alunos_menor_nota = [matricula for matricula, nota in notas.items() if nota == menor_nota]\n",
        "print(f\"O(s) aluno(s) com a menor nota ({menor_nota:.2f}) é(são): {', '.join(alunos_menor_nota)}\")"
      ],
      "metadata": {
        "id": "2MIN3IWlmxBq"
      },
      "execution_count": null,
      "outputs": []
    },
    {
      "cell_type": "code",
      "source": [
        "#5\n",
        "import requests\n",
        "import json\n",
        "\n",
        "response = requests.get('https://jsonplaceholder.typicode.com/posts')\n",
        "posts = json.loads(response.text)\n",
        "qtd = 0\n",
        "\n",
        "\n",
        "# Imprimindo os títulos e os posts somente do usuário com userId = 10\n",
        "usuario = input(\"Digite o usuário para ler os posts \")\n",
        "\n",
        "for post in posts:\n",
        "    if post['userId'] == int(usuario):\n",
        "        print(f\"Título: {post['title']}\")\n",
        "        print(f\"Post: {post['body']}\\n\")\n",
        "        qtd = qtd+1\n",
        "\n",
        "print(f\"Quantidade de posts do usuário {usuario} encontrado(s) \",qtd)\n",
        "\n",
        "\n"
      ],
      "metadata": {
        "colab": {
          "base_uri": "https://localhost:8080/"
        },
        "id": "9v5de_P8avu0",
        "outputId": "8267ebd5-44ae-4d23-ac6d-a2b89e253f7e"
      },
      "execution_count": 22,
      "outputs": [
        {
          "output_type": "stream",
          "name": "stdout",
          "text": [
            "Digite o usuário para ler os posts 2\n",
            "Título: et ea vero quia laudantium autem\n",
            "Post: delectus reiciendis molestiae occaecati non minima eveniet qui voluptatibus\n",
            "accusamus in eum beatae sit\n",
            "vel qui neque voluptates ut commodi qui incidunt\n",
            "ut animi commodi\n",
            "\n",
            "Título: in quibusdam tempore odit est dolorem\n",
            "Post: itaque id aut magnam\n",
            "praesentium quia et ea odit et ea voluptas et\n",
            "sapiente quia nihil amet occaecati quia id voluptatem\n",
            "incidunt ea est distinctio odio\n",
            "\n",
            "Título: dolorum ut in voluptas mollitia et saepe quo animi\n",
            "Post: aut dicta possimus sint mollitia voluptas commodi quo doloremque\n",
            "iste corrupti reiciendis voluptatem eius rerum\n",
            "sit cumque quod eligendi laborum minima\n",
            "perferendis recusandae assumenda consectetur porro architecto ipsum ipsam\n",
            "\n",
            "Título: voluptatem eligendi optio\n",
            "Post: fuga et accusamus dolorum perferendis illo voluptas\n",
            "non doloremque neque facere\n",
            "ad qui dolorum molestiae beatae\n",
            "sed aut voluptas totam sit illum\n",
            "\n",
            "Título: eveniet quod temporibus\n",
            "Post: reprehenderit quos placeat\n",
            "velit minima officia dolores impedit repudiandae molestiae nam\n",
            "voluptas recusandae quis delectus\n",
            "officiis harum fugiat vitae\n",
            "\n",
            "Título: sint suscipit perspiciatis velit dolorum rerum ipsa laboriosam odio\n",
            "Post: suscipit nam nisi quo aperiam aut\n",
            "asperiores eos fugit maiores voluptatibus quia\n",
            "voluptatem quis ullam qui in alias quia est\n",
            "consequatur magni mollitia accusamus ea nisi voluptate dicta\n",
            "\n",
            "Título: fugit voluptas sed molestias voluptatem provident\n",
            "Post: eos voluptas et aut odit natus earum\n",
            "aspernatur fuga molestiae ullam\n",
            "deserunt ratione qui eos\n",
            "qui nihil ratione nemo velit ut aut id quo\n",
            "\n",
            "Título: voluptate et itaque vero tempora molestiae\n",
            "Post: eveniet quo quis\n",
            "laborum totam consequatur non dolor\n",
            "ut et est repudiandae\n",
            "est voluptatem vel debitis et magnam\n",
            "\n",
            "Título: adipisci placeat illum aut reiciendis qui\n",
            "Post: illum quis cupiditate provident sit magnam\n",
            "ea sed aut omnis\n",
            "veniam maiores ullam consequatur atque\n",
            "adipisci quo iste expedita sit quos voluptas\n",
            "\n",
            "Título: doloribus ad provident suscipit at\n",
            "Post: qui consequuntur ducimus possimus quisquam amet similique\n",
            "suscipit porro ipsam amet\n",
            "eos veritatis officiis exercitationem vel fugit aut necessitatibus totam\n",
            "omnis rerum consequatur expedita quidem cumque explicabo\n",
            "\n",
            "Quantidade de posts do usuário 2 encontrado(s)  10\n"
          ]
        }
      ]
    }
  ]
}